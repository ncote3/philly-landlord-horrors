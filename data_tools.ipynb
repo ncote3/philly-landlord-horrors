{
 "cells": [
  {
   "cell_type": "markdown",
   "metadata": {},
   "source": [
    "# Data Tools\n",
    "These functions are meant to provide tools for working with city property assessment data"
   ]
  },
  {
   "cell_type": "markdown",
   "metadata": {},
   "source": [
    "### Imports\n",
    "\n",
    "`import json` Is used to work with JSON files and object\n",
    "\n",
    "`from tqdm import tqdm` is meant to keep progress on long iteration."
   ]
  },
  {
   "cell_type": "code",
   "execution_count": 1,
   "metadata": {},
   "outputs": [],
   "source": [
    "import json\n",
    "from tqdm import tqdm"
   ]
  },
  {
   "cell_type": "markdown",
   "metadata": {},
   "source": [
    "### Remove Entry\n",
    "Used to remove entries from the larger JSON `landlords_and_properties.json` file."
   ]
  },
  {
   "cell_type": "code",
   "execution_count": 2,
   "metadata": {},
   "outputs": [],
   "source": [
    "def remove_entry(source, entry_to_remove):\n",
    "    data = json.load(open(source))\n",
    "    data.pop(entry_to_remove)\n",
    "    json.dump(data, open(source, 'w'))"
   ]
  },
  {
   "cell_type": "code",
   "execution_count": null,
   "metadata": {},
   "outputs": [],
   "source": [
    "remove_entry('./data_sets/landlords_and_properties.json', \"PHILADELPHIA HOUSING AUTH\")"
   ]
  },
  {
   "cell_type": "markdown",
   "metadata": {},
   "source": [
    "### Remove Significant Landlord\n",
    "Used to remove a property owner from `significant_sorted_landlords.json`."
   ]
  },
  {
   "cell_type": "code",
   "execution_count": 3,
   "metadata": {},
   "outputs": [],
   "source": [
    "def remove_significant_landlord(source, entry_to_remove):\n",
    "    data = json.load(open(source))\n",
    "    for sig_landlord in tqdm(data):\n",
    "        if sig_landlord[0] == entry_to_remove:\n",
    "            data.remove(sig_landlord)\n",
    "    json.dump(data, open(source, 'w'))"
   ]
  },
  {
   "cell_type": "code",
   "execution_count": null,
   "metadata": {},
   "outputs": [],
   "source": [
    "remove_significant_landlord('./data_sets/significant_sorted_landlords.json', \"PHILADELPHIA HOUSING AUTH\")"
   ]
  },
  {
   "cell_type": "markdown",
   "metadata": {},
   "source": [
    "### Print Property Addresses By Owner\n",
    "Used to see what properties a specific owner owns."
   ]
  },
  {
   "cell_type": "code",
   "execution_count": 4,
   "metadata": {},
   "outputs": [],
   "source": [
    "def print_property_addresses_by_owner(source, owner_string):\n",
    "    data = json.load(open(source))\n",
    "    for owner in data:\n",
    "        if owner_string == owner:\n",
    "            for property in data[owner][\"properties\"]:\n",
    "                print(property)"
   ]
  },
  {
   "cell_type": "code",
   "execution_count": null,
   "metadata": {},
   "outputs": [],
   "source": [
    "print_property_addresses_by_owner('./data_sets/landlords_and_properties.json', 'JAMISON ROAD ASSOC')"
   ]
  }
 ],
 "metadata": {
  "kernelspec": {
   "display_name": "Python 3",
   "language": "python",
   "name": "python3"
  },
  "language_info": {
   "codemirror_mode": {
    "name": "ipython",
    "version": 3
   },
   "file_extension": ".py",
   "mimetype": "text/x-python",
   "name": "python",
   "nbconvert_exporter": "python",
   "pygments_lexer": "ipython3",
   "version": "3.7.2"
  }
 },
 "nbformat": 4,
 "nbformat_minor": 4
}
