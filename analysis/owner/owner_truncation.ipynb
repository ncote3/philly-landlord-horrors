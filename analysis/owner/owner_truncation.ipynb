{
 "cells": [
  {
   "cell_type": "markdown",
   "metadata": {},
   "source": [
    "# Exploring owner_1 Truncation\n",
    "In this notebook I will be attempting to cross reference property assessment data with Business License data"
   ]
  },
  {
   "cell_type": "code",
   "execution_count": 1,
   "metadata": {},
   "outputs": [],
   "source": [
    "from tqdm import tqdm\n",
    "import json\n",
    "import matplotlib.pyplot as plt\n",
    "import numpy as np\n",
    "import csv\n",
    "import re"
   ]
  },
  {
   "cell_type": "markdown",
   "metadata": {},
   "source": [
    "### Putting Business License data into smaller JSON\n",
    "Only grabbing what I need at first from the CSV"
   ]
  },
  {
   "cell_type": "code",
   "execution_count": 13,
   "metadata": {},
   "outputs": [],
   "source": [
    "def get_useful_li_data(source, output):\n",
    "    data = {}\n",
    "    line_count = 0\n",
    "    with open(source, mode=\"r\") as csv_file:\n",
    "        csv_reader = csv.DictReader(csv_file)\n",
    "        for row in tqdm(csv_reader, total=366036):\n",
    "            if line_count == 0:\n",
    "                line_count += 1\n",
    "            else:\n",
    "                if row[\"address\"].strip() not in data.keys():\n",
    "                    data[row[\"address\"].strip()] = {\n",
    "                        'total_address_entries': 1,\n",
    "                        'entries': {\n",
    "                            row[\"legalname\"].strip(): {\n",
    "                                'license_num': row['licensenum'].strip(),\n",
    "                                'license_type': row['licensetype'].strip(),\n",
    "                                'initial_issue_date': row['initialissuedate'].strip(),\n",
    "                                'most_recent_issue_date': row['mostrecentissuedate'].strip(),\n",
    "                                'expiration_date': row['expirationdate'].strip(),\n",
    "                                'inactive_date': row['inactivedate'].strip(),\n",
    "                                'license_status': row['licensestatus'].strip(),\n",
    "                                'parcel_id_num': row['parcel_id_num'].strip(),\n",
    "                                'opa_account_num': row['opa_account_num'].strip(),\n",
    "                                'opa_owner': row['opa_owner'].strip(),\n",
    "                                'number_of_units': row['numberofunits'].strip(),\n",
    "                                'legal_entity_type': row['legalentitytype'].strip(),\n",
    "                                'business_name': row['business_name'].strip(),\n",
    "                                'business_mailing_address': row['business_mailing_address'].strip()\n",
    "                            }\n",
    "                        }\n",
    "                    }\n",
    "                else:\n",
    "                    # Setting the data to var names for easier reading\n",
    "                    address = data[row['address'].strip()]\n",
    "                    legal_name = row[\"legalname\"].strip()\n",
    "                    license_num = row['licensenum'].strip()\n",
    "                    license_type = row['licensetype'].strip()\n",
    "                    initial_issue_date = row['initialissuedate'].strip()\n",
    "                    most_recent_issue_date = row['mostrecentissuedate'].strip()\n",
    "                    expiration_date = row['expirationdate'].strip()\n",
    "                    inactive_date = row['inactivedate'].strip()\n",
    "                    license_status = row['licensestatus'].strip()\n",
    "                    parcel_id_num = row['parcel_id_num'].strip()\n",
    "                    opa_account_num = row['opa_account_num'].strip()\n",
    "                    opa_owner = row['opa_owner'].strip()\n",
    "                    number_of_units = row['numberofunits'].strip()\n",
    "                    legal_entity_type =  row['legalentitytype'].strip()\n",
    "                    business_name = row['business_name'].strip()\n",
    "                    business_mailing_address = row['business_mailing_address'].strip()\n",
    "\n",
    "                    # Update and add values\n",
    "                    address['total_address_entries'] += 1\n",
    "                    address['entries'][legal_name] = {\n",
    "                                'license_num': license_num,\n",
    "                                'license_type': license_type,\n",
    "                                'initial_issue_date': initial_issue_date,\n",
    "                                'most_recent_issue_date': most_recent_issue_date,\n",
    "                                'expiration_date': expiration_date,\n",
    "                                'inactive_date': inactive_date,\n",
    "                                'license_status': license_status,\n",
    "                                'parcel_id_num': parcel_id_num,\n",
    "                                'opa_account_num': opa_account_num,\n",
    "                                'opa_owner': opa_owner,\n",
    "                                'number_of_units': number_of_units,\n",
    "                                'legal_entity_type': legal_entity_type,\n",
    "                                'business_name': business_name,\n",
    "                                'business_mailing_address': business_mailing_address\n",
    "                            }\n",
    "                line_count += 1\n",
    "        print('There are ', line_count, 'in this dataset.')\n",
    "        with open(output, 'w+') as file:\n",
    "            file.write(json.dumps(data))         "
   ]
  },
  {
   "cell_type": "code",
   "execution_count": 15,
   "metadata": {},
   "outputs": [
    {
     "name": "stderr",
     "output_type": "stream",
     "text": [
      "100%|████████████████████████████████████████████████████████████████████████████████████████████████████████████████████| 366036/366036 [00:04<00:00, 74558.76it/s]\n"
     ]
    },
    {
     "name": "stdout",
     "output_type": "stream",
     "text": [
      "There are  366036 in this dataset.\n"
     ]
    }
   ],
   "source": [
    "get_useful_li_data('./../../data_sets/business_licenses.csv', './data/business_licenses.json')"
   ]
  },
  {
   "cell_type": "markdown",
   "metadata": {},
   "source": [
    "### Merging Business License Data with Property Assessment Data"
   ]
  },
  {
   "cell_type": "code",
   "execution_count": null,
   "metadata": {},
   "outputs": [],
   "source": []
  }
 ],
 "metadata": {
  "kernelspec": {
   "display_name": "Python 3",
   "language": "python",
   "name": "python3"
  },
  "language_info": {
   "codemirror_mode": {
    "name": "ipython",
    "version": 3
   },
   "file_extension": ".py",
   "mimetype": "text/x-python",
   "name": "python",
   "nbconvert_exporter": "python",
   "pygments_lexer": "ipython3",
   "version": "3.8.5"
  }
 },
 "nbformat": 4,
 "nbformat_minor": 4
}
