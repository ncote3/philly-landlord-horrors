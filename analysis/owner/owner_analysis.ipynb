{
 "cells": [
  {
   "cell_type": "markdown",
   "metadata": {},
   "source": [
    "# Owner Analysis\n",
    "\n",
    "Most of these functions are for the paper: 'Hiding in Housing'"
   ]
  },
  {
   "cell_type": "code",
   "execution_count": null,
   "metadata": {},
   "outputs": [],
   "source": [
    "from tqdm import tqdm\n",
    "import json\n",
    "import matplotlib.pyplot as plt\n",
    "import numpy\n",
    "import csv"
   ]
  },
  {
   "cell_type": "markdown",
   "metadata": {},
   "source": [
    "### Find One Property Owners\n",
    "This function is used to find owners that own only one property."
   ]
  },
  {
   "cell_type": "code",
   "execution_count": null,
   "metadata": {},
   "outputs": [],
   "source": [
    "def find_one_prop_owners(source):\n",
    "    data = json.load(open(source))\n",
    "    count = 0\n",
    "    for owner in tqdm(data, total=len(data)):\n",
    "        if owner[1] == 1:\n",
    "            count += 1\n",
    "    percentage = (count / len(data)) * 100\n",
    "    print('There are ', count, 'one property owners in this dataset.')\n",
    "    print(\"That's \", percentage, '% of total owners.')"
   ]
  },
  {
   "cell_type": "code",
   "execution_count": null,
   "metadata": {},
   "outputs": [],
   "source": [
    "find_one_prop_owners('./../../data_sets/sorted_landlords.json')"
   ]
  },
  {
   "cell_type": "markdown",
   "metadata": {},
   "source": [
    "### Find owner_2\n",
    "This function is used to find and count properties with 2 owners."
   ]
  },
  {
   "cell_type": "code",
   "execution_count": null,
   "metadata": {},
   "outputs": [],
   "source": [
    "def get_owner_2_count(source, output):\n",
    "    owners = []\n",
    "    owner2_count = 0\n",
    "    with open(source, mode=\"r\") as csv_file:\n",
    "        csv_reader = csv.DictReader(csv_file)\n",
    "        line_count = 0\n",
    "        for row in tqdm(csv_reader, total=581456):\n",
    "            if line_count == 0:\n",
    "                line_count += 1\n",
    "            else:\n",
    "                try:\n",
    "                    owners.append([row[\"owner_1\"].strip(), row[\"owner_2\"].strip()])\n",
    "                    if (row[\"owner_2\"].strip() == \"\"):\n",
    "                        owner2_count += 1\n",
    "                except:\n",
    "                     print(row[\"owner_1\"].strip(), \"is missing a count.\")\n",
    "    with open(output, 'w') as file:\n",
    "        file.write(json.dumps(owners))\n",
    "    print('There are ', owner2_count, 'owner_2s in this dataset.')"
   ]
  },
  {
   "cell_type": "code",
   "execution_count": null,
   "metadata": {},
   "outputs": [],
   "source": [
    "get_owner_2_count('./../../data_sets/opa_properties_public.csv', './../../data_sets/owner1_owner2.json')"
   ]
  },
  {
   "cell_type": "markdown",
   "metadata": {},
   "source": [
    "### Get Owners and Mailing Addresses\n",
    "This function will create a list that holds both owners and the mailing address."
   ]
  },
  {
   "cell_type": "code",
   "execution_count": 29,
   "metadata": {},
   "outputs": [],
   "source": [
    "def get_owners_and_mailing_address(source, output):\n",
    "    owners_with_mailing_address = []\n",
    "    mailing_address_count = 0\n",
    "    with open(source, mode=\"r\") as csv_file:\n",
    "        csv_reader = csv.DictReader(csv_file)\n",
    "        line_count = 0\n",
    "        owner_1_count = 0\n",
    "        owner_2_count = 0\n",
    "        mailing_address_1_count = 0\n",
    "        mailing_address_2_count = 0\n",
    "        mailing_care_of_count = 0\n",
    "        mailing_city_state_count = 0\n",
    "        mailing_street_count = 0\n",
    "        mailing_zip_count = 0\n",
    "        for row in tqdm(csv_reader, total=581456):\n",
    "            if line_count == 0:\n",
    "                line_count += 1\n",
    "            else:\n",
    "                line_count += 1\n",
    "            \n",
    "                owner_1 = row[\"owner_1\"].strip()\n",
    "                owner_2 = row[\"owner_2\"].strip()\n",
    "                mailing_address_1 = row[\"mailing_address_1\"].strip()\n",
    "                mailing_address_2 = row[\"mailing_address_2\"].strip()\n",
    "                mailing_care_of = row[\"mailing_care_of\"].strip()\n",
    "                mailing_city_state = row[\"mailing_city_state\"].strip()\n",
    "                mailing_street = row[\"mailing_street\"].strip()\n",
    "                mailing_zip = row[\"mailing_zip\"].strip()\n",
    "                mailing_info = [\n",
    "                    mailing_address_1,\n",
    "                    mailing_address_2,\n",
    "                    mailing_care_of,\n",
    "                    mailing_city_state,\n",
    "                    mailing_street,\n",
    "                    mailing_zip\n",
    "                ]\n",
    "                owners_with_mailing_address.append([owner_1, owner_2, mailing_info])\n",
    "                if (owner_1 != \"\"):\n",
    "                    owner_1_count += 1\n",
    "                if (owner_2 != \"\"):\n",
    "                    owner_2_count += 1\n",
    "                if (mailing_address_1 != \"\"):\n",
    "                    mailing_address_1_count += 1\n",
    "                if (mailing_address_2 != \"\"):\n",
    "                    mailing_address_2_count += 1\n",
    "                if (mailing_care_of != \"\"):\n",
    "                    mailing_care_of_count += 1\n",
    "                if (mailing_city_state != \"\"):\n",
    "                    mailing_city_state_count += 1\n",
    "                if (mailing_street != \"\"):\n",
    "                    mailing_street_count += 1\n",
    "                if (mailing_zip != \"\"):\n",
    "                    mailing_zip_count += 1\n",
    "\n",
    "    with open(output, 'w') as file:\n",
    "        file.write(json.dumps(owners_with_mailing_address))\n",
    "    line_count -= 1 # need to account for the first line in the csv\n",
    "    print('There are ', line_count, 'properties in this dataset.')\n",
    "    print('There are ', owner_1_count, 'owner_1s in this dataset or ', (owner_1_count/line_count)*100, ' %.')\n",
    "    print('There are ', owner_2_count, 'owner_2s in this dataset or ', (owner_2_count/line_count)*100, ' %.')\n",
    "    print('There are ', mailing_address_1_count, 'mailing_address_1s in this dataset or ', (mailing_address_1_count/line_count)*100, ' %.')\n",
    "    print('There are ', mailing_address_2_count, 'mailing_address_2s in this dataset or ', (mailing_address_2_count/line_count)*100, ' %.')\n",
    "    print('There are ', mailing_care_of_count, 'mailing_care_ofs in this dataset or ', (mailing_care_of_count/line_count)*100, ' %.')\n",
    "    print('There are ', mailing_city_state_count, 'mailing_city_states in this dataset or ', (mailing_city_state_count/line_count)*100, ' %.')\n",
    "    print('There are ', mailing_street_count, 'mailing_streets in this dataset or ', (mailing_street_count/line_count)*100, ' %.')\n",
    "    print('There are ', mailing_zip_count, 'mailing_zips in this dataset or ', (mailing_zip_count/line_count)*100, ' %.')\n",
    "    \n",
    "    "
   ]
  },
  {
   "cell_type": "code",
   "execution_count": 30,
   "metadata": {},
   "outputs": [
    {
     "name": "stderr",
     "output_type": "stream",
     "text": [
      "100%|████████████████████████████████████████████████████████████████████████████████████████████████████████████████████| 581456/581456 [00:09<00:00, 63005.73it/s]\n"
     ]
    },
    {
     "name": "stdout",
     "output_type": "stream",
     "text": [
      "There are  581455 properties in this dataset.\n",
      "There are  581455 owner_1s in this dataset or  100.0  %.\n",
      "There are  204927 owner_2s in this dataset or  35.24382798324892  %.\n",
      "There are  32299 mailing_address_1s in this dataset or  5.554858071561858  %.\n",
      "There are  11185 mailing_address_2s in this dataset or  1.9236226363175137  %.\n",
      "There are  23098 mailing_care_ofs in this dataset or  3.972448426791411  %.\n",
      "There are  220035 mailing_city_states in this dataset or  37.842137396703095  %.\n",
      "There are  220037 mailing_streets in this dataset or  37.84248136141232  %.\n",
      "There are  219783 mailing_zips in this dataset or  37.798797843341276  %.\n"
     ]
    }
   ],
   "source": [
    "get_owners_and_mailing_address('./../../data_sets/opa_properties_public.csv', './../../data_sets/owners_mailing_address.json')"
   ]
  },
  {
   "cell_type": "markdown",
   "metadata": {},
   "source": [
    "### Find LLC Owners\n",
    "This function will find LLC owners and count them."
   ]
  },
  {
   "cell_type": "code",
   "execution_count": 36,
   "metadata": {},
   "outputs": [],
   "source": [
    "def find_llc_owners(source, output):\n",
    "    data = json.load(open(source))\n",
    "    out = []\n",
    "    count = 0\n",
    "    property_count = 0\n",
    "    for owner in tqdm(data, total=len(data)):\n",
    "        if owner[0].find('LLC') != -1:\n",
    "            out.append(owner)\n",
    "            count += 1\n",
    "            property_count += owner[1]\n",
    "\n",
    "    json.dump(out, open(output, 'w+'))\n",
    "    \n",
    "    print('There are ', count, 'LLCs in this dataset or ', (count/len(data))*100, '% of owners.')\n",
    "    print('LLCs own ', property_count, 'properties or ', (property_count / 581455)*100, '% of properties.') # hard number sourced from previous function"
   ]
  },
  {
   "cell_type": "code",
   "execution_count": 37,
   "metadata": {},
   "outputs": [
    {
     "name": "stderr",
     "output_type": "stream",
     "text": [
      "100%|██████████████████████████████████████████████████████████████████████████████████████████████████████████████████| 429983/429983 [00:00<00:00, 3038211.68it/s]\n"
     ]
    },
    {
     "name": "stdout",
     "output_type": "stream",
     "text": [
      "There are  16770 LLCs in this dataset or  3.90015419214248 % of owners.\n",
      "LLCs own  17868 properties or  3.0729807121789308 % of properties.\n"
     ]
    }
   ],
   "source": [
    "find_llc_owners('./../../data_sets/sorted_landlords.json', './data/llc_owner.json')"
   ]
  },
  {
   "cell_type": "code",
   "execution_count": null,
   "metadata": {},
   "outputs": [],
   "source": []
  }
 ],
 "metadata": {
  "kernelspec": {
   "display_name": "Python 3",
   "language": "python",
   "name": "python3"
  },
  "language_info": {
   "codemirror_mode": {
    "name": "ipython",
    "version": 3
   },
   "file_extension": ".py",
   "mimetype": "text/x-python",
   "name": "python",
   "nbconvert_exporter": "python",
   "pygments_lexer": "ipython3",
   "version": "3.8.5"
  }
 },
 "nbformat": 4,
 "nbformat_minor": 4
}
