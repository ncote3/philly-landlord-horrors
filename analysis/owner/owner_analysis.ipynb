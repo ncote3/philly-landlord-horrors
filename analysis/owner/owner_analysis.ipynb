{
 "cells": [
  {
   "cell_type": "markdown",
   "metadata": {},
   "source": [
    "# Owner Analysis\n",
    "\n",
    "Most of these functions are for the paper: 'Hiding in Housing'"
   ]
  },
  {
   "cell_type": "code",
   "execution_count": 1,
   "metadata": {},
   "outputs": [],
   "source": [
    "from tqdm import tqdm\n",
    "import json\n",
    "import matplotlib.pyplot as plt\n",
    "import numpy as np\n",
    "import csv\n",
    "import re"
   ]
  },
  {
   "cell_type": "markdown",
   "metadata": {},
   "source": [
    "### Find One Property Owners\n",
    "This function is used to find owners that own only one property."
   ]
  },
  {
   "cell_type": "code",
   "execution_count": null,
   "metadata": {},
   "outputs": [],
   "source": [
    "def find_one_prop_owners(source):\n",
    "    data = json.load(open(source))\n",
    "    count = 0\n",
    "    for owner in tqdm(data, total=len(data)):\n",
    "        if owner[1] == 1:\n",
    "            count += 1\n",
    "    percentage = (count / len(data)) * 100\n",
    "    print('There are ', count, 'one property owners in this dataset.')\n",
    "    print(\"That's \", percentage, '% of total owners.')"
   ]
  },
  {
   "cell_type": "code",
   "execution_count": null,
   "metadata": {},
   "outputs": [],
   "source": [
    "find_one_prop_owners('./../../data_sets/sorted_landlords.json')"
   ]
  },
  {
   "cell_type": "markdown",
   "metadata": {},
   "source": [
    "### Find owner_2\n",
    "This function is used to find and count properties with 2 owners."
   ]
  },
  {
   "cell_type": "code",
   "execution_count": 103,
   "metadata": {},
   "outputs": [],
   "source": [
    "def get_owner_2_count(source, output):\n",
    "    owners = []\n",
    "    owner2_count = 0\n",
    "    with open(source, mode=\"r\") as csv_file:\n",
    "        csv_reader = csv.DictReader(csv_file)\n",
    "        line_count = 0\n",
    "        for row in tqdm(csv_reader, total=581456):\n",
    "            if line_count == 0:\n",
    "                line_count += 1\n",
    "            else:\n",
    "                try:\n",
    "                    owners.append([row[\"owner_1\"].strip(), row[\"owner_2\"].strip()])\n",
    "                    if (row[\"owner_2\"].strip() == \"\"):\n",
    "                        owner2_count += 1\n",
    "                except:\n",
    "                     print(row[\"owner_1\"].strip(), \"is missing a count.\")\n",
    "    with open(output, 'w') as file:\n",
    "        file.write(json.dumps(owners))\n",
    "    print('There are ', owner2_count, 'owner_2s in this dataset.')"
   ]
  },
  {
   "cell_type": "code",
   "execution_count": 104,
   "metadata": {},
   "outputs": [
    {
     "name": "stderr",
     "output_type": "stream",
     "text": [
      "100%|████████████████████████████████████████████████████████████████████████████████████████████████████████████████████| 581456/581456 [00:07<00:00, 74223.28it/s]\n"
     ]
    },
    {
     "name": "stdout",
     "output_type": "stream",
     "text": [
      "There are  376528 owner_2s in this dataset.\n"
     ]
    }
   ],
   "source": [
    "get_owner_2_count('./../../data_sets/opa_properties_public.csv', './data/owner1_owner2.json')"
   ]
  },
  {
   "cell_type": "markdown",
   "metadata": {},
   "source": [
    "### Get Owners and Mailing Addresses\n",
    "This function will create a list that holds both owners and the mailing address."
   ]
  },
  {
   "cell_type": "code",
   "execution_count": 105,
   "metadata": {},
   "outputs": [],
   "source": [
    "def get_owners_and_mailing_address(source, output):\n",
    "    owners_with_mailing_address = []\n",
    "    mailing_address_count = 0\n",
    "    with open(source, mode=\"r\") as csv_file:\n",
    "        csv_reader = csv.DictReader(csv_file)\n",
    "        line_count = 0\n",
    "        owner_1_count = 0\n",
    "        owner_2_count = 0\n",
    "        mailing_address_1_count = 0\n",
    "        mailing_address_2_count = 0\n",
    "        mailing_care_of_count = 0\n",
    "        mailing_city_state_count = 0\n",
    "        mailing_street_count = 0\n",
    "        mailing_zip_count = 0\n",
    "        for row in tqdm(csv_reader, total=581456):\n",
    "            if line_count == 0:\n",
    "                line_count += 1\n",
    "            else:\n",
    "                line_count += 1\n",
    "            \n",
    "                owner_1 = row[\"owner_1\"].strip()\n",
    "                owner_2 = row[\"owner_2\"].strip()\n",
    "                mailing_address_1 = row[\"mailing_address_1\"].strip()\n",
    "                mailing_address_2 = row[\"mailing_address_2\"].strip()\n",
    "                mailing_care_of = row[\"mailing_care_of\"].strip()\n",
    "                mailing_city_state = row[\"mailing_city_state\"].strip()\n",
    "                mailing_street = row[\"mailing_street\"].strip()\n",
    "                mailing_zip = row[\"mailing_zip\"].strip()\n",
    "                mailing_info = [\n",
    "                    mailing_address_1,\n",
    "                    mailing_address_2,\n",
    "                    mailing_care_of,\n",
    "                    mailing_city_state,\n",
    "                    mailing_street,\n",
    "                    mailing_zip\n",
    "                ]\n",
    "                owners_with_mailing_address.append([owner_1, owner_2, mailing_info])\n",
    "                if (owner_1 != \"\"):\n",
    "                    owner_1_count += 1\n",
    "                if (owner_2 != \"\"):\n",
    "                    owner_2_count += 1\n",
    "                if (mailing_address_1 != \"\"):\n",
    "                    mailing_address_1_count += 1\n",
    "                if (mailing_address_2 != \"\"):\n",
    "                    mailing_address_2_count += 1\n",
    "                if (mailing_care_of != \"\"):\n",
    "                    mailing_care_of_count += 1\n",
    "                if (mailing_city_state != \"\"):\n",
    "                    mailing_city_state_count += 1\n",
    "                if (mailing_street != \"\"):\n",
    "                    mailing_street_count += 1\n",
    "                if (mailing_zip != \"\"):\n",
    "                    mailing_zip_count += 1\n",
    "\n",
    "    with open(output, 'w') as file:\n",
    "        file.write(json.dumps(owners_with_mailing_address))\n",
    "    line_count -= 1 # need to account for the first line in the csv\n",
    "    print('There are ', line_count, 'properties in this dataset.')\n",
    "    print('There are ', owner_1_count, 'owner_1s in this dataset or ', (owner_1_count/line_count)*100, ' %.')\n",
    "    print('There are ', owner_2_count, 'owner_2s in this dataset or ', (owner_2_count/line_count)*100, ' %.')\n",
    "    print('There are ', mailing_address_1_count, 'mailing_address_1s in this dataset or ', (mailing_address_1_count/line_count)*100, ' %.')\n",
    "    print('There are ', mailing_address_2_count, 'mailing_address_2s in this dataset or ', (mailing_address_2_count/line_count)*100, ' %.')\n",
    "    print('There are ', mailing_care_of_count, 'mailing_care_ofs in this dataset or ', (mailing_care_of_count/line_count)*100, ' %.')\n",
    "    print('There are ', mailing_city_state_count, 'mailing_city_states in this dataset or ', (mailing_city_state_count/line_count)*100, ' %.')\n",
    "    print('There are ', mailing_street_count, 'mailing_streets in this dataset or ', (mailing_street_count/line_count)*100, ' %.')\n",
    "    print('There are ', mailing_zip_count, 'mailing_zips in this dataset or ', (mailing_zip_count/line_count)*100, ' %.')\n",
    "    \n",
    "    "
   ]
  },
  {
   "cell_type": "code",
   "execution_count": 106,
   "metadata": {},
   "outputs": [
    {
     "name": "stderr",
     "output_type": "stream",
     "text": [
      "100%|████████████████████████████████████████████████████████████████████████████████████████████████████████████████████| 581456/581456 [00:08<00:00, 69535.78it/s]\n"
     ]
    },
    {
     "name": "stdout",
     "output_type": "stream",
     "text": [
      "There are  581455 properties in this dataset.\n",
      "There are  581455 owner_1s in this dataset or  100.0  %.\n",
      "There are  204927 owner_2s in this dataset or  35.24382798324892  %.\n",
      "There are  32299 mailing_address_1s in this dataset or  5.554858071561858  %.\n",
      "There are  11185 mailing_address_2s in this dataset or  1.9236226363175137  %.\n",
      "There are  23098 mailing_care_ofs in this dataset or  3.972448426791411  %.\n",
      "There are  220035 mailing_city_states in this dataset or  37.842137396703095  %.\n",
      "There are  220037 mailing_streets in this dataset or  37.84248136141232  %.\n",
      "There are  219783 mailing_zips in this dataset or  37.798797843341276  %.\n"
     ]
    }
   ],
   "source": [
    "get_owners_and_mailing_address('./../../data_sets/opa_properties_public.csv', './data/owners_mailing_address.json')"
   ]
  },
  {
   "cell_type": "markdown",
   "metadata": {},
   "source": [
    "### Combine Owner Truncation LLC findings\n",
    "This combines the possible 'L's that are now LLCs"
   ]
  },
  {
   "cell_type": "code",
   "execution_count": 8,
   "metadata": {},
   "outputs": [],
   "source": [
    "def combine(source, l_source, output):\n",
    "    data = json.load(open(source))\n",
    "    l_data = json.load(open(l_source))\n",
    "    out = []\n",
    "    count = 0\n",
    "    for owner in tqdm(data, total=len(data)):\n",
    "        owner_name = owner[0]\n",
    "        prop_count = owner[1]\n",
    "        found_flag = False\n",
    "        for trunc_owner in l_data:\n",
    "            if owner_name in trunc_owner.keys():\n",
    "                correct_owner_name = trunc_owner[owner_name]\n",
    "                out.append([correct_owner_name, prop_count])\n",
    "                found_flag = True\n",
    "                count += 1\n",
    "                break\n",
    "        if found_flag == False:\n",
    "            out.append([owner_name, prop_count])\n",
    "            count += 1\n",
    "    json.dump(out, open(output, 'w+'))\n",
    "    print(count)\n",
    "        "
   ]
  },
  {
   "cell_type": "code",
   "execution_count": 9,
   "metadata": {},
   "outputs": [
    {
     "name": "stderr",
     "output_type": "stream",
     "text": [
      "100%|███████████████████████████████████████████████████████████████████████████████████████████████████████████████████████████████████████████████████████████████████████████████████████| 429983/429983 [00:22<00:00, 19354.29it/s]\n"
     ]
    },
    {
     "name": "stdout",
     "output_type": "stream",
     "text": [
      "429983\n"
     ]
    }
   ],
   "source": [
    "combine('./../../data_sets/sorted_landlords.json', './data/annotated_fuzzy_L_results.JSON', './data/llc_owner_combined.json')"
   ]
  },
  {
   "cell_type": "markdown",
   "metadata": {},
   "source": [
    "### Find LLC Owners\n",
    "This function will find LLC owners and count them.\n",
    "It will take 'L' data from the LLCs that were truncated and found by hand, rather than the possibly incorrect 'L' assuming happening before this change."
   ]
  },
  {
   "cell_type": "code",
   "execution_count": 12,
   "metadata": {},
   "outputs": [],
   "source": [
    "def find_llc_owners(source, output):\n",
    "    data = json.load(open(source))\n",
    "    out = []\n",
    "    count = 0\n",
    "    property_count = 0\n",
    "    LL_count = 0\n",
    "    LLC_count = 0\n",
    "    \n",
    "    raw_search_string_LL = r\"\\b\" + \"LL\" + r\"\\b$\"\n",
    "    raw_search_string_LLC = r\"\\b\" + \"LLC\" + r\"\\b\"\n",
    "    \n",
    "    for owner in tqdm(data, total=len(data)):\n",
    "        match_output_LLC = re.search(raw_search_string_LLC, owner[0])\n",
    "        match_output_LL = re.search(raw_search_string_LL, owner[0])\n",
    "        \n",
    "        if match_output_LLC is not None or match_output_LL is not None:\n",
    "            out.append(owner)\n",
    "            count += 1\n",
    "            property_count += owner[1]\n",
    "            \n",
    "            if match_output_LLC is not None:\n",
    "                LLC_count += 1\n",
    "            if match_output_LL is not None:\n",
    "                LL_count += 1\n",
    "\n",
    "    json.dump(out, open(output, 'w+'))\n",
    "    \n",
    "    llc_owner_count_percentage = (count/len(data))*100\n",
    "    property_count_percentage = (property_count / 581455)*100\n",
    "    average_properties_owned = property_count / count\n",
    "    \n",
    "    possible_LLC_total = LLC_count + LL_count\n",
    "    percentage_of_LLC = (LLC_count/possible_LLC_total) * 100\n",
    "    percentage_of_LL = (LL_count/possible_LLC_total) * 100\n",
    "    \n",
    "    print('There are ', count, 'LLCs in this dataset or ', llc_owner_count_percentage, '% of owners.')\n",
    "    print('LLCs own ', property_count, 'properties or ', property_count_percentage, '% of properties.') # hard number sourced from previous function\n",
    "    print('On Average, LLCs own ', average_properties_owned, 'properties.')\n",
    "    print('\\n')\n",
    "    print('Using Regex I found ', percentage_of_LLC, '% of the findings have \"LLC\" in their owner_1.')\n",
    "    print('Using Regex I found ', percentage_of_LL, '% of the findings have \"LL\" at the end of their owner_1.')"
   ]
  },
  {
   "cell_type": "code",
   "execution_count": 13,
   "metadata": {},
   "outputs": [
    {
     "name": "stderr",
     "output_type": "stream",
     "text": [
      "100%|██████████████████████████████████████████████████████████████████████████████████████████████████████████████████████████████████████████████████████████████████████████████████████| 429983/429983 [00:00<00:00, 563813.20it/s]\n"
     ]
    },
    {
     "name": "stdout",
     "output_type": "stream",
     "text": [
      "There are  17489 LLCs in this dataset or  4.067370105329745 % of owners.\n",
      "LLCs own  19768 properties or  3.3997471859387227 % of properties.\n",
      "On Average, LLCs own  1.1303104808736921 properties.\n",
      "\n",
      "\n",
      "Using Regex I found  95.64297558465321 % of the findings have \"LLC\" in their owner_1.\n",
      "Using Regex I found  4.357024415346789 % of the findings have \"LL\" at the end of their owner_1.\n"
     ]
    }
   ],
   "source": [
    "find_llc_owners('./../../data_sets/sorted_landlords.json', './data/llc_owner.json')"
   ]
  },
  {
   "cell_type": "markdown",
   "metadata": {},
   "source": [
    "### Generate JSON that Contains LLC Owners and properties\n"
   ]
  },
  {
   "cell_type": "code",
   "execution_count": null,
   "metadata": {},
   "outputs": [],
   "source": [
    "def get_llc_and_props(source, llc_source, l_source, output):\n",
    "    out = {}\n",
    "    data = json.load(open(source))\n",
    "    llc_data = json.load(open(llc_source))\n",
    "    l_data = json.load(open(l_source))\n",
    "    \n",
    "    for owner in tqdm(data, total=len(data)):\n",
    "        "
   ]
  },
  {
   "cell_type": "code",
   "execution_count": null,
   "metadata": {},
   "outputs": [],
   "source": [
    "get_llc_and_props('./../../data_sets/landlords_and_properties.json', output)"
   ]
  },
  {
   "cell_type": "markdown",
   "metadata": {},
   "source": [
    "### Create Bar Chart of Top Owners\n",
    "This function will output a chart of the cities largest property owners"
   ]
  },
  {
   "cell_type": "code",
   "execution_count": 80,
   "metadata": {},
   "outputs": [],
   "source": [
    "def create_top_owner_bar_chart(source):\n",
    "    data = json.load(open(source))\n",
    "    prop_owner = []\n",
    "    prop_count = []\n",
    "    for owner in tqdm(data, total=len(data)):\n",
    "        prop_owner.append(owner[0])\n",
    "        prop_count.append(owner[1])\n",
    "    fig, ax = plt.subplots(figsize=(10,10))\n",
    "    ax.barh(prop_owner, prop_count)\n",
    "    labels = ax.get_xticklabels()\n",
    "    plt.setp(labels, rotation=45, horizontalalignment='center')\n",
    "    ax.set(xlim=[0, 4300], xlabel='Number of Properties Owned', ylabel='Owner',\n",
    "       title='Top Property Owners')\n",
    "    for i, v in enumerate(prop_count):\n",
    "        ax.text(v+3, i-.25, str(v), color='black')\n",
    "    fig.savefig('./figures/top_owners.png', transparent=False, dpi=80, bbox_inches=\"tight\")\n",
    "    plt.show()"
   ]
  },
  {
   "cell_type": "code",
   "execution_count": 81,
   "metadata": {},
   "outputs": [
    {
     "name": "stderr",
     "output_type": "stream",
     "text": [
      "100%|████████████████████████████████████████████████████████████████████████████████████████████████████████████████████████████| 23/23 [00:00<00:00, 45893.91it/s]\n"
     ]
    },
    {
     "data": {
      "image/png": "[encoded data removed]",
      "text/plain": [
       "<Figure size 720x720 with 1 Axes>"
      ]
     },
     "metadata": {
      "needs_background": "light"
     },
     "output_type": "display_data"
    }
   ],
   "source": [
    "create_top_owner_bar_chart('./../../data_sets/significant_sorted_landlords.json')"
   ]
  },
  {
   "cell_type": "markdown",
   "metadata": {},
   "source": []
  },
  {
   "cell_type": "code",
   "execution_count": null,
   "metadata": {},
   "outputs": [],
   "source": []
  }
 ],
 "metadata": {
  "kernelspec": {
   "display_name": "Python 3",
   "language": "python",
   "name": "python3"
  },
  "language_info": {
   "codemirror_mode": {
    "name": "ipython",
    "version": 3
   },
   "file_extension": ".py",
   "mimetype": "text/x-python",
   "name": "python",
   "nbconvert_exporter": "python",
   "pygments_lexer": "ipython3",
   "version": "3.8.5"
  }
 },
 "nbformat": 4,
 "nbformat_minor": 4
}
