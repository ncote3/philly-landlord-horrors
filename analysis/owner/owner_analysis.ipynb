{
 "cells": [
  {
   "cell_type": "markdown",
   "metadata": {},
   "source": [
    "# Owner Analysis\n",
    "\n",
    "Most of these functions are for the paper: 'Hiding in Housing'"
   ]
  },
  {
   "cell_type": "code",
   "execution_count": 4,
   "metadata": {},
   "outputs": [],
   "source": [
    "from tqdm import tqdm\n",
    "import json\n",
    "import csv\n",
    "import re\n",
    "from fuzzywuzzy import fuzz"
   ]
  },
  {
   "cell_type": "markdown",
   "metadata": {},
   "source": [
    "### Find One Property Owners\n",
    "This function is used to find owners that own only one property."
   ]
  },
  {
   "cell_type": "code",
   "execution_count": null,
   "metadata": {},
   "outputs": [],
   "source": [
    "def find_one_prop_owners(source):\n",
    "    data = json.load(open(source))\n",
    "    count = 0\n",
    "    for owner in tqdm(data, total=len(data)):\n",
    "        if owner[1] == 1:\n",
    "            count += 1\n",
    "    percentage = (count / len(data)) * 100\n",
    "    print('There are ', count, 'one property owners in this dataset.')\n",
    "    print(\"That's \", percentage, '% of total owners.')"
   ]
  },
  {
   "cell_type": "code",
   "execution_count": null,
   "metadata": {},
   "outputs": [],
   "source": [
    "find_one_prop_owners('./../../data_sets/sorted_landlords.json')"
   ]
  },
  {
   "cell_type": "markdown",
   "metadata": {},
   "source": [
    "### Find owner_2\n",
    "This function is used to find and count properties with 2 owners."
   ]
  },
  {
   "cell_type": "code",
   "execution_count": 103,
   "metadata": {},
   "outputs": [],
   "source": [
    "def get_owner_2_count(source, output):\n",
    "    owners = []\n",
    "    owner2_count = 0\n",
    "    with open(source, mode=\"r\") as csv_file:\n",
    "        csv_reader = csv.DictReader(csv_file)\n",
    "        line_count = 0\n",
    "        for row in tqdm(csv_reader, total=581456):\n",
    "            if line_count == 0:\n",
    "                line_count += 1\n",
    "            else:\n",
    "                try:\n",
    "                    owners.append([row[\"owner_1\"].strip(), row[\"owner_2\"].strip()])\n",
    "                    if (row[\"owner_2\"].strip() == \"\"):\n",
    "                        owner2_count += 1\n",
    "                except:\n",
    "                     print(row[\"owner_1\"].strip(), \"is missing a count.\")\n",
    "    with open(output, 'w') as file:\n",
    "        file.write(json.dumps(owners))\n",
    "    print('There are ', owner2_count, 'owner_2s in this dataset.')"
   ]
  },
  {
   "cell_type": "code",
   "execution_count": 104,
   "metadata": {},
   "outputs": [
    {
     "name": "stderr",
     "output_type": "stream",
     "text": [
      "100%|████████████████████████████████████████████████████████████████████████████████████████████████████████████████████| 581456/581456 [00:07<00:00, 74223.28it/s]\n"
     ]
    },
    {
     "name": "stdout",
     "output_type": "stream",
     "text": [
      "There are  376528 owner_2s in this dataset.\n"
     ]
    }
   ],
   "source": [
    "get_owner_2_count('./../../data_sets/opa_properties_public.csv', './data/owner1_owner2.json')"
   ]
  },
  {
   "cell_type": "markdown",
   "metadata": {},
   "source": [
    "### Get Owners and Mailing Addresses\n",
    "This function will create a list that holds both owners and the mailing address."
   ]
  },
  {
   "cell_type": "code",
   "execution_count": 105,
   "metadata": {},
   "outputs": [],
   "source": [
    "def get_owners_and_mailing_address(source, output):\n",
    "    owners_with_mailing_address = []\n",
    "    mailing_address_count = 0\n",
    "    with open(source, mode=\"r\") as csv_file:\n",
    "        csv_reader = csv.DictReader(csv_file)\n",
    "        line_count = 0\n",
    "        owner_1_count = 0\n",
    "        owner_2_count = 0\n",
    "        mailing_address_1_count = 0\n",
    "        mailing_address_2_count = 0\n",
    "        mailing_care_of_count = 0\n",
    "        mailing_city_state_count = 0\n",
    "        mailing_street_count = 0\n",
    "        mailing_zip_count = 0\n",
    "        for row in tqdm(csv_reader, total=581456):\n",
    "            if line_count == 0:\n",
    "                line_count += 1\n",
    "            else:\n",
    "                line_count += 1\n",
    "            \n",
    "                owner_1 = row[\"owner_1\"].strip()\n",
    "                owner_2 = row[\"owner_2\"].strip()\n",
    "                mailing_address_1 = row[\"mailing_address_1\"].strip()\n",
    "                mailing_address_2 = row[\"mailing_address_2\"].strip()\n",
    "                mailing_care_of = row[\"mailing_care_of\"].strip()\n",
    "                mailing_city_state = row[\"mailing_city_state\"].strip()\n",
    "                mailing_street = row[\"mailing_street\"].strip()\n",
    "                mailing_zip = row[\"mailing_zip\"].strip()\n",
    "                mailing_info = [\n",
    "                    mailing_address_1,\n",
    "                    mailing_address_2,\n",
    "                    mailing_care_of,\n",
    "                    mailing_city_state,\n",
    "                    mailing_street,\n",
    "                    mailing_zip\n",
    "                ]\n",
    "                owners_with_mailing_address.append([owner_1, owner_2, mailing_info])\n",
    "                if (owner_1 != \"\"):\n",
    "                    owner_1_count += 1\n",
    "                if (owner_2 != \"\"):\n",
    "                    owner_2_count += 1\n",
    "                if (mailing_address_1 != \"\"):\n",
    "                    mailing_address_1_count += 1\n",
    "                if (mailing_address_2 != \"\"):\n",
    "                    mailing_address_2_count += 1\n",
    "                if (mailing_care_of != \"\"):\n",
    "                    mailing_care_of_count += 1\n",
    "                if (mailing_city_state != \"\"):\n",
    "                    mailing_city_state_count += 1\n",
    "                if (mailing_street != \"\"):\n",
    "                    mailing_street_count += 1\n",
    "                if (mailing_zip != \"\"):\n",
    "                    mailing_zip_count += 1\n",
    "\n",
    "    with open(output, 'w') as file:\n",
    "        file.write(json.dumps(owners_with_mailing_address))\n",
    "    line_count -= 1 # need to account for the first line in the csv\n",
    "    print('There are ', line_count, 'properties in this dataset.')\n",
    "    print('There are ', owner_1_count, 'owner_1s in this dataset or ', (owner_1_count/line_count)*100, ' %.')\n",
    "    print('There are ', owner_2_count, 'owner_2s in this dataset or ', (owner_2_count/line_count)*100, ' %.')\n",
    "    print('There are ', mailing_address_1_count, 'mailing_address_1s in this dataset or ', (mailing_address_1_count/line_count)*100, ' %.')\n",
    "    print('There are ', mailing_address_2_count, 'mailing_address_2s in this dataset or ', (mailing_address_2_count/line_count)*100, ' %.')\n",
    "    print('There are ', mailing_care_of_count, 'mailing_care_ofs in this dataset or ', (mailing_care_of_count/line_count)*100, ' %.')\n",
    "    print('There are ', mailing_city_state_count, 'mailing_city_states in this dataset or ', (mailing_city_state_count/line_count)*100, ' %.')\n",
    "    print('There are ', mailing_street_count, 'mailing_streets in this dataset or ', (mailing_street_count/line_count)*100, ' %.')\n",
    "    print('There are ', mailing_zip_count, 'mailing_zips in this dataset or ', (mailing_zip_count/line_count)*100, ' %.')\n",
    "    \n",
    "    "
   ]
  },
  {
   "cell_type": "code",
   "execution_count": 106,
   "metadata": {},
   "outputs": [
    {
     "name": "stderr",
     "output_type": "stream",
     "text": [
      "100%|████████████████████████████████████████████████████████████████████████████████████████████████████████████████████| 581456/581456 [00:08<00:00, 69535.78it/s]\n"
     ]
    },
    {
     "name": "stdout",
     "output_type": "stream",
     "text": [
      "There are  581455 properties in this dataset.\n",
      "There are  581455 owner_1s in this dataset or  100.0  %.\n",
      "There are  204927 owner_2s in this dataset or  35.24382798324892  %.\n",
      "There are  32299 mailing_address_1s in this dataset or  5.554858071561858  %.\n",
      "There are  11185 mailing_address_2s in this dataset or  1.9236226363175137  %.\n",
      "There are  23098 mailing_care_ofs in this dataset or  3.972448426791411  %.\n",
      "There are  220035 mailing_city_states in this dataset or  37.842137396703095  %.\n",
      "There are  220037 mailing_streets in this dataset or  37.84248136141232  %.\n",
      "There are  219783 mailing_zips in this dataset or  37.798797843341276  %.\n"
     ]
    }
   ],
   "source": [
    "get_owners_and_mailing_address('./../../data_sets/opa_properties_public.csv', './data/owners_mailing_address.json')"
   ]
  },
  {
   "cell_type": "markdown",
   "metadata": {},
   "source": [
    "### Combine Owner Truncation LLC findings\n",
    "This combines the possible 'L's that are now LLCs"
   ]
  },
  {
   "cell_type": "code",
   "execution_count": 8,
   "metadata": {},
   "outputs": [],
   "source": [
    "def combine(source, l_source, output):\n",
    "    data = json.load(open(source))\n",
    "    l_data = json.load(open(l_source))\n",
    "    out = []\n",
    "    for owner in tqdm(data, total=len(data)):\n",
    "        owner_name = owner[0]\n",
    "        prop_count = owner[1]\n",
    "        found_flag = False\n",
    "        for trunc_owner in l_data:\n",
    "            if owner_name in trunc_owner.keys():\n",
    "                correct_owner_name = trunc_owner[owner_name]\n",
    "                out.append([correct_owner_name, prop_count])\n",
    "                found_flag = True\n",
    "                break\n",
    "        if found_flag == False:\n",
    "            out.append([owner_name, prop_count])\n",
    "    json.dump(out, open(output, 'w+'))"
   ]
  },
  {
   "cell_type": "code",
   "execution_count": 9,
   "metadata": {},
   "outputs": [
    {
     "name": "stderr",
     "output_type": "stream",
     "text": [
      "100%|███████████████████████████████████████████████████████████████████████████████████████████████████████████████████████████████████████████████████████████████████████████████████████| 429983/429983 [00:22<00:00, 19354.29it/s]\n"
     ]
    },
    {
     "name": "stdout",
     "output_type": "stream",
     "text": [
      "429983\n"
     ]
    }
   ],
   "source": [
    "combine('./../../data_sets/sorted_landlords.json', './data/annotated_fuzzy_L_results.JSON', './data/llc_owner_combined.json')"
   ]
  },
  {
   "cell_type": "markdown",
   "metadata": {},
   "source": [
    "####  Modified Combine to keep names\n",
    "Needed for relating back to `landlords_and_properties.json'"
   ]
  },
  {
   "cell_type": "code",
   "execution_count": 2,
   "metadata": {},
   "outputs": [],
   "source": [
    "def modified_combine(source, l_source, output):\n",
    "    data = json.load(open(source))\n",
    "    l_data = json.load(open(l_source))\n",
    "    out = []\n",
    "    for owner in tqdm(data, total=len(data)):\n",
    "        owner_name = owner[0]\n",
    "        prop_count = owner[1]\n",
    "        found_flag = False\n",
    "        for trunc_owner in l_data:\n",
    "            if owner_name in trunc_owner.keys():\n",
    "                correct_owner_name = trunc_owner[owner_name]\n",
    "                out.append([correct_owner_name, owner_name, prop_count])\n",
    "                found_flag = True\n",
    "                break\n",
    "        if found_flag == False:\n",
    "            out.append([owner_name, prop_count])\n",
    "    json.dump(out, open(output, 'w+'))"
   ]
  },
  {
   "cell_type": "code",
   "execution_count": 3,
   "metadata": {},
   "outputs": [
    {
     "name": "stderr",
     "output_type": "stream",
     "text": [
      "100%|███████████████████████████████████████████████████████████████████████████████████████████████████████████████████████████████████████████████████████████████████████████████████████| 429983/429983 [00:22<00:00, 19162.35it/s]\n"
     ]
    }
   ],
   "source": [
    "modified_combine('./../../data_sets/sorted_landlords.json', './data/annotated_fuzzy_L_results.JSON', './data/llc_owner_modified_combined.json')"
   ]
  },
  {
   "cell_type": "markdown",
   "metadata": {},
   "source": [
    "### Find LLC Owners\n",
    "This function will find LLC owners and count them.\n",
    "It will take 'L' data from the LLCs that were truncated and found by hand, rather than the possibly incorrect 'L' assuming happening before this change."
   ]
  },
  {
   "cell_type": "code",
   "execution_count": 12,
   "metadata": {},
   "outputs": [],
   "source": [
    "def find_llc_owners(source, output):\n",
    "    data = json.load(open(source))\n",
    "    out = []\n",
    "    count = 0\n",
    "    property_count = 0\n",
    "    LL_count = 0\n",
    "    LLC_count = 0\n",
    "    \n",
    "    raw_search_string_LL = r\"\\b\" + \"LL\" + r\"\\b$\"\n",
    "    raw_search_string_LLC = r\"\\b\" + \"LLC\" + r\"\\b\"\n",
    "    \n",
    "    for owner in tqdm(data, total=len(data)):\n",
    "        match_output_LLC = re.search(raw_search_string_LLC, owner[0])\n",
    "        match_output_LL = re.search(raw_search_string_LL, owner[0])\n",
    "        \n",
    "        if match_output_LLC is not None or match_output_LL is not None:\n",
    "            out.append(owner)\n",
    "            count += 1\n",
    "            property_count += owner[1]\n",
    "            \n",
    "            if match_output_LLC is not None:\n",
    "                LLC_count += 1\n",
    "            if match_output_LL is not None:\n",
    "                LL_count += 1\n",
    "\n",
    "    json.dump(out, open(output, 'w+'))\n",
    "    \n",
    "    llc_owner_count_percentage = (count/len(data))*100\n",
    "    property_count_percentage = (property_count / 581455)*100\n",
    "    average_properties_owned = property_count / count\n",
    "    \n",
    "    possible_LLC_total = LLC_count + LL_count\n",
    "    percentage_of_LLC = (LLC_count/possible_LLC_total) * 100\n",
    "    percentage_of_LL = (LL_count/possible_LLC_total) * 100\n",
    "    \n",
    "    print('There are ', count, 'LLCs in this dataset or ', llc_owner_count_percentage, '% of owners.')\n",
    "    print('LLCs own ', property_count, 'properties or ', property_count_percentage, '% of properties.') # hard number sourced from previous function\n",
    "    print('On Average, LLCs own ', average_properties_owned, 'properties.')\n",
    "    print('\\n')\n",
    "    print('Using Regex I found ', percentage_of_LLC, '% of the findings have \"LLC\" in their owner_1.')\n",
    "    print('Using Regex I found ', percentage_of_LL, '% of the findings have \"LL\" at the end of their owner_1.')"
   ]
  },
  {
   "cell_type": "code",
   "execution_count": 13,
   "metadata": {},
   "outputs": [
    {
     "name": "stderr",
     "output_type": "stream",
     "text": [
      "100%|██████████████████████████████████████████████████████████████████████████████████████████████████████████████████████████████████████████████████████████████████████████████████████| 429983/429983 [00:00<00:00, 563813.20it/s]\n"
     ]
    },
    {
     "name": "stdout",
     "output_type": "stream",
     "text": [
      "There are  17489 LLCs in this dataset or  4.067370105329745 % of owners.\n",
      "LLCs own  19768 properties or  3.3997471859387227 % of properties.\n",
      "On Average, LLCs own  1.1303104808736921 properties.\n",
      "\n",
      "\n",
      "Using Regex I found  95.64297558465321 % of the findings have \"LLC\" in their owner_1.\n",
      "Using Regex I found  4.357024415346789 % of the findings have \"LL\" at the end of their owner_1.\n"
     ]
    }
   ],
   "source": [
    "find_llc_owners('./../../data_sets/sorted_landlords.json', './data/llc_owner.json')"
   ]
  },
  {
   "cell_type": "markdown",
   "metadata": {},
   "source": [
    "### Generate JSON that Contains LLC Owners\n",
    "Just trying to get an object that has every LLC I'm sure about."
   ]
  },
  {
   "cell_type": "code",
   "execution_count": 13,
   "metadata": {},
   "outputs": [],
   "source": [
    "def get_llc_and_props(source, llc_source, output):\n",
    "    out = {}\n",
    "    data = json.load(open(source))\n",
    "    fixed_trunc_count = 0\n",
    "    trunc_count = 0\n",
    "    llc_data = json.load(open(llc_source))\n",
    "    \n",
    "    raw_search_string_LL = r\"\\b\" + \"LL\" + r\"\\b$\"\n",
    "    raw_search_string_LLC = r\"\\b\" + \"LLC\" + r\"\\b\"\n",
    "    \n",
    "    for entry in tqdm(llc_data, total=len(llc_data)):\n",
    "        llc_flag = False\n",
    "        full_flag = False\n",
    "        if len(entry) == 3:\n",
    "            trunc_owner = entry[1]\n",
    "            full_owner = entry[0]\n",
    "            mo_LLC_trunc = re.search(raw_search_string_LLC, trunc_owner)\n",
    "            mo_LL_trunc = re.search(raw_search_string_LL, trunc_owner)\n",
    "            mo_LLC_full = re.search(raw_search_string_LLC, full_owner)\n",
    "            mo_LL_full = re.search(raw_search_string_LL, full_owner)\n",
    "            if mo_LLC_trunc is not None or mo_LL_trunc is not None or mo_LLC_full is not None or mo_LL_full is not None:\n",
    "                llc_flag = True\n",
    "                full_flag = True\n",
    "        else:\n",
    "            trunc_owner = entry[0]\n",
    "            mo_LLC_trunc = re.search(raw_search_string_LLC, trunc_owner)\n",
    "            mo_LL_trunc = re.search(raw_search_string_LL, trunc_owner)\n",
    "            if mo_LLC_trunc is not None or mo_LL_trunc is not None:\n",
    "                llc_flag = True\n",
    "        \n",
    "        if llc_flag is True:\n",
    "            try:\n",
    "                if full_flag is True:\n",
    "                    data[trunc_owner]['has_full_name'] = True\n",
    "                    data[trunc_owner]['full_name'] = full_owner\n",
    "                    out[trunc_owner] = data[trunc_owner]\n",
    "                    fixed_trunc_count += 1\n",
    "                else:\n",
    "                    data[trunc_owner]['has_full_name'] = False\n",
    "                    out[trunc_owner] = data[trunc_owner]\n",
    "                    trunc_count += 1\n",
    "            except:\n",
    "                pass\n",
    "        else:\n",
    "            pass\n",
    "    json.dump(out, open(output, 'w+'))\n",
    "    print(\"There were \", trunc_count + fixed_trunc_count, \"entries processed.\")\n",
    "    print(trunc_count, \"entries still truncated.\")\n",
    "    print(fixed_trunc_count, \"entries with untruncated names.\")"
   ]
  },
  {
   "cell_type": "code",
   "execution_count": 14,
   "metadata": {},
   "outputs": [
    {
     "name": "stderr",
     "output_type": "stream",
     "text": [
      "100%|██████████████████████████████████████████████████████████████████████████████████████████████████████████████████████████████████████████████████████████████████████████████████████| 429983/429983 [00:00<00:00, 527817.77it/s]\n"
     ]
    },
    {
     "name": "stdout",
     "output_type": "stream",
     "text": [
      "There were  17682 entries processed.\n",
      "17489 entries still truncated.\n",
      "193 entries with untruncated names.\n"
     ]
    }
   ],
   "source": [
    "get_llc_and_props('./../../data_sets/landlords_and_properties.json', './data/llc_owner_modified_combined.json', './data/llc_data_set.json')"
   ]
  },
  {
   "cell_type": "markdown",
   "metadata": {},
   "source": [
    "## Looking for 'address' LLCs\n",
    "Think like `3614 Spring Garden LLC`. These functions will be attempting to find them."
   ]
  },
  {
   "cell_type": "code",
   "execution_count": 92,
   "metadata": {},
   "outputs": [],
   "source": [
    "def narrow_to_address_llc(source, mail_source, output, prop_fuzz_ratio_threshold, mail_fuzz_ratio_threshold):\n",
    "    out = {}\n",
    "    address_out = {}\n",
    "    data = json.load(open(source))\n",
    "    mail_data = json.load(open(mail_source))\n",
    "    numbered_count = 0\n",
    "    fuzz_count = 0\n",
    "    total_count = 0\n",
    "    both_count = 0\n",
    "    total_props_owned = 0\n",
    "    fuzz_mail_count = 0\n",
    "    \n",
    "    raw_search_string_numbers = r\"\\d\"\n",
    "    \n",
    "    for entry in tqdm(data, total=len(data)):\n",
    "        numbered_flag = False\n",
    "        prop_fuzz_flag = False\n",
    "        \n",
    "        numbered_LLC = re.search(raw_search_string_numbers, entry)\n",
    "        if numbered_LLC is not None:\n",
    "            numbered_flag = True\n",
    "            numbered_count += 1\n",
    "            \n",
    "        property_fuzz_ratios = {}\n",
    "        for prop in data[entry]['properties']:\n",
    "            fuzz_ratio = fuzz.ratio(prop, entry)\n",
    "            if fuzz_ratio >= prop_fuzz_ratio_threshold:\n",
    "                property_fuzz_ratios[prop] = fuzz_ratio\n",
    "                fuzz_count += 1\n",
    "                prop_fuzz_flag = True\n",
    "        \n",
    "        if numbered_LLC is True or prop_fuzz_flag is True:\n",
    "            total_count += 1\n",
    "            out[entry] = data[entry]\n",
    "            out[entry]['had_fuzz_props'] = False\n",
    "            out[entry]['had_fuzz_mail'] = False\n",
    "            if prop_fuzz_flag is True:\n",
    "                out[entry]['had_fuzz_props'] = True\n",
    "                out[entry]['fuzz_props'] = property_fuzz_ratios\n",
    "                both_count += 1\n",
    "            total_props_owned += data[entry]['total_properties']\n",
    "            for mail_entry in mail_data:\n",
    "                owner_1 = mail_entry[0]\n",
    "                owner_2 = mail_entry[1]\n",
    "                address_info = mail_entry[2]\n",
    "                if entry == owner_1 or entry == owner_2:\n",
    "                    street_addr = address_info[4]\n",
    "                    fuzz_r = fuzz.ratio(entry, street_addr)\n",
    "                    if fuzz_r >= mail_fuzz_ratio_threshold:\n",
    "                        out[entry]['had_fuzz_mail'] = True\n",
    "                        out[entry]['fuzz_mail'] = street_addr\n",
    "                        out[entry]['fuzz_mail_ratio'] = fuzz_r\n",
    "                        address_out[entry] = data[entry]\n",
    "                        address_out[entry]['fuzz_mail'] = street_addr\n",
    "                        address_out[entry]['fuzz_mail_ratio'] = fuzz_r\n",
    "                        fuzz_mail_count += 1\n",
    "            \n",
    "    \n",
    "    json.dump(out, open(output, 'w+'))\n",
    "    json.dump(address_out, open('./data/fuzz_mailing_addressed_LLCs.json', 'w+'))\n",
    "    print('There are ', numbered_count, 'numbered entries in the LLC data.')\n",
    "    print('There are ', fuzz_count, 'fuzzy possible entries in the LLC data.')\n",
    "    print('There are ', both_count, 'both possible entries in the LLC data.')\n",
    "    print('There are ', fuzz_mail_count, 'with fuzzy similar mailing addresses.')\n",
    "    print('There are ', total_count, 'possible address LLCs.')\n",
    "    print('Thats ', total_props_owned, 'possible properties owned by address LLCs.')"
   ]
  },
  {
   "cell_type": "code",
   "execution_count": 96,
   "metadata": {},
   "outputs": [
    {
     "name": "stderr",
     "output_type": "stream",
     "text": [
      "100%|███████████████████████████████████████████████████████████████████████████████████████████████████████████████████████████████████████████████████████████████████████████████████████████| 17682/17682 [02:28<00:00, 119.18it/s]\n"
     ]
    },
    {
     "name": "stdout",
     "output_type": "stream",
     "text": [
      "There are  5062 numbered entries in the LLC data.\n",
      "There are  2654 fuzzy possible entries in the LLC data.\n",
      "There are  2477 both possible entries in the LLC data.\n",
      "There are  134 with fuzzy similar mailing addresses.\n",
      "There are  2477 possible address LLCs.\n",
      "Thats  3201 possible properties owned by address LLCs.\n"
     ]
    }
   ],
   "source": [
    "narrow_to_address_llc('./data/llc_data_set.json', './../../data_sets/owners_mailing_address.json', './data/addressed_LLCs.json', 70, 60)"
   ]
  },
  {
   "cell_type": "markdown",
   "metadata": {},
   "source": [
    "### n Letter Owners\n",
    "A function to find owners  with n number of characters in their name."
   ]
  },
  {
   "cell_type": "code",
   "execution_count": 9,
   "metadata": {},
   "outputs": [],
   "source": [
    "def find_n_char_owners(source, output, n):\n",
    "    out = {}\n",
    "    data = json.load(open(source))\n",
    "    count = 0\n",
    "    for entry in tqdm(data, total=len(data)):\n",
    "        owner_1_len = len(entry)\n",
    "        if owner_1_len == n:\n",
    "            out[entry] = data[entry]\n",
    "            count += 1\n",
    "    json.dump(out, open(output, 'w+'))\n",
    "    print('There are ', count, 'owners with ', n, 'chars in their name.')"
   ]
  },
  {
   "cell_type": "code",
   "execution_count": 11,
   "metadata": {},
   "outputs": [
    {
     "name": "stderr",
     "output_type": "stream",
     "text": [
      "100%|██████████████████████████████████████████████████████████████████████████████████████████████████████████████████| 429982/429982 [00:00<00:00, 2975138.20it/s]\n"
     ]
    },
    {
     "name": "stdout",
     "output_type": "stream",
     "text": [
      "There are  6 owners with  3 chars in their name.\n"
     ]
    }
   ],
   "source": [
    "find_n_char_owners('./../../data_sets/landlords_and_properties.json', './data/n_char_owners/n_char_owners_3.json', 3)"
   ]
  },
  {
   "cell_type": "code",
   "execution_count": null,
   "metadata": {},
   "outputs": [],
   "source": []
  }
 ],
 "metadata": {
  "kernelspec": {
   "display_name": "Python 3 (ipykernel)",
   "language": "python",
   "name": "python3"
  },
  "language_info": {
   "codemirror_mode": {
    "name": "ipython",
    "version": 3
   },
   "file_extension": ".py",
   "mimetype": "text/x-python",
   "name": "python",
   "nbconvert_exporter": "python",
   "pygments_lexer": "ipython3",
   "version": "3.9.1"
  }
 },
 "nbformat": 4,
 "nbformat_minor": 4
}
