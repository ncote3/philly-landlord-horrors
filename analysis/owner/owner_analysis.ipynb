{
 "cells": [
  {
   "cell_type": "markdown",
   "metadata": {},
   "source": [
    "# Owner Analysis\n",
    "\n",
    "Most of these functions are for the paper: 'Hiding in Housing'"
   ]
  },
  {
   "cell_type": "code",
   "execution_count": 15,
   "metadata": {},
   "outputs": [],
   "source": [
    "from tqdm import tqdm\n",
    "import json\n",
    "import matplotlib.pyplot as plt\n",
    "import numpy\n",
    "import csv"
   ]
  },
  {
   "cell_type": "markdown",
   "metadata": {},
   "source": [
    "### Find One Property Owners\n",
    "This function is used to find owners that own only one property."
   ]
  },
  {
   "cell_type": "code",
   "execution_count": 9,
   "metadata": {},
   "outputs": [],
   "source": [
    "def find_one_prop_owners(source):\n",
    "    data = json.load(open(source))\n",
    "    count = 0\n",
    "    for owner in tqdm(data, total=len(data)):\n",
    "        if owner[1] == 1:\n",
    "            count += 1\n",
    "    percentage = (count / len(data)) * 100\n",
    "    print('There are ', count, 'one property owners in this dataset.')\n",
    "    print(\"That's \", percentage, '% of total owners.')"
   ]
  },
  {
   "cell_type": "code",
   "execution_count": 10,
   "metadata": {},
   "outputs": [
    {
     "name": "stderr",
     "output_type": "stream",
     "text": [
      "100%|██████████████████████████████████████████████████████████████████████████████████████████████████████████████████| 429983/429983 [00:00<00:00, 4320652.93it/s]"
     ]
    },
    {
     "name": "stdout",
     "output_type": "stream",
     "text": [
      "There are  425419 one property owners in this dataset.\n",
      "That's  98.93856268736207 % of total owners.\n"
     ]
    },
    {
     "name": "stderr",
     "output_type": "stream",
     "text": [
      "\n"
     ]
    }
   ],
   "source": [
    "find_one_prop_owners('./../../data_sets/sorted_landlords.json')"
   ]
  },
  {
   "cell_type": "markdown",
   "metadata": {},
   "source": [
    "### Find owner_2\n",
    "This function is used to find and count properties with 2 owners."
   ]
  },
  {
   "cell_type": "code",
   "execution_count": 18,
   "metadata": {},
   "outputs": [],
   "source": [
    "def get_owner_2_count(source, output):\n",
    "    owners = []\n",
    "    owner2_count = 0\n",
    "    with open(source, mode=\"r\") as csv_file:\n",
    "        csv_reader = csv.DictReader(csv_file)\n",
    "        line_count = 0\n",
    "        for row in tqdm(csv_reader, total=581456):\n",
    "            if line_count == 0:\n",
    "                line_count += 1\n",
    "            else:\n",
    "                try:\n",
    "                    owners.append([row[\"owner_1\"].strip(), row[\"owner_2\"].strip()])\n",
    "                    if (row[\"owner_2\"].strip() == \"\"):\n",
    "                        owner2_count += 1\n",
    "                except:\n",
    "                     print(row[\"owner_1\"].strip(), \"is missing a count.\")\n",
    "    with open(output, 'w') as file:\n",
    "        file.write(json.dumps(owners))\n",
    "    print('There are ', owner2_count, 'owner_2s in this dataset.')"
   ]
  },
  {
   "cell_type": "code",
   "execution_count": 19,
   "metadata": {},
   "outputs": [
    {
     "name": "stderr",
     "output_type": "stream",
     "text": [
      "100%|████████████████████████████████████████████████████████████████████████████████████████████████████████████████████| 581456/581456 [00:07<00:00, 80403.00it/s]\n"
     ]
    },
    {
     "name": "stdout",
     "output_type": "stream",
     "text": [
      "There are  376528 owner_2s in this dataset.\n"
     ]
    }
   ],
   "source": [
    "get_owner_2_count('./../../data_sets/opa_properties_public.csv', './../../data_sets/owner1_owner2.json')"
   ]
  },
  {
   "cell_type": "code",
   "execution_count": null,
   "metadata": {},
   "outputs": [],
   "source": []
  }
 ],
 "metadata": {
  "kernelspec": {
   "display_name": "Python 3",
   "language": "python",
   "name": "python3"
  },
  "language_info": {
   "codemirror_mode": {
    "name": "ipython",
    "version": 3
   },
   "file_extension": ".py",
   "mimetype": "text/x-python",
   "name": "python",
   "nbconvert_exporter": "python",
   "pygments_lexer": "ipython3",
   "version": "3.8.5"
  }
 },
 "nbformat": 4,
 "nbformat_minor": 4
}
