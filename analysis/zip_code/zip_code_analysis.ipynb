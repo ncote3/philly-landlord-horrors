{
 "cells": [
  {
   "cell_type": "markdown",
   "metadata": {},
   "source": [
    "# Zip Code Analysis\n",
    "Functions to explore data on a zip code basis."
   ]
  },
  {
   "cell_type": "markdown",
   "metadata": {},
   "source": [
    "### Imports\n",
    "`import csv` used to work with csv files and data.\n",
    "\n",
    "`from tqdm import tqdm` used to keep progress of lengthy operations.\n",
    "\n",
    "`import json` used to work with JSON files and data.\n",
    "\n",
    "`import matplotlib.pyplot as plt` used to created figures and charts."
   ]
  },
  {
   "cell_type": "code",
   "execution_count": 2,
   "metadata": {},
   "outputs": [],
   "source": [
    "import csv\n",
    "from tqdm import tqdm\n",
    "import json\n",
    "import matplotlib.pyplot as plt"
   ]
  },
  {
   "cell_type": "markdown",
   "metadata": {},
   "source": [
    "### Total Zip Analysis\n",
    "This function is used to create a histogram on how many properties are in every zip code."
   ]
  },
  {
   "cell_type": "code",
   "execution_count": 3,
   "metadata": {},
   "outputs": [],
   "source": [
    "def total_zip_analysis(source, output):\n",
    "    zip_counts = {}\n",
    "\n",
    "    with open(source, mode=\"r\") as csv_file:\n",
    "        csv_reader = csv.DictReader(csv_file)\n",
    "        line_count = 0\n",
    "        zip_wack = []\n",
    "        for row in tqdm(csv_reader, total=581456):\n",
    "            zip_code = row[\"zip_code\"].strip()[0:5]\n",
    "            if zip_code == \"\":\n",
    "                zip_wack.append(row[\"owner_1\"].strip())\n",
    "            if line_count == 0:\n",
    "                line_count += 1\n",
    "            if zip_code not in zip_counts.keys():\n",
    "                zip_counts[zip_code] = 1\n",
    "                line_count += 1\n",
    "            else:\n",
    "                try:\n",
    "                    zip_count = zip_counts[zip_code]\n",
    "                    zip_counts[zip_code] = zip_count + 1\n",
    "                except:\n",
    "                    print(zip_code, \"is missing a count.\")\n",
    "                line_count += 1\n",
    "    unique_zip_codes = len(zip_counts)\n",
    "    print(zip_wack)\n",
    "    print('There are ', unique_zip_codes, 'unique zip codes in this dataset.')\n",
    "\n",
    "    with open(output, 'w') as file:\n",
    "        file.write(json.dumps(zip_counts))"
   ]
  },
  {
   "cell_type": "code",
   "execution_count": null,
   "metadata": {},
   "outputs": [],
   "source": [
    "total_zip_analysis('./data_sets/opa_properties_public.csv', './data_sets/total_zip_counts.json')"
   ]
  },
  {
   "cell_type": "markdown",
   "metadata": {},
   "source": [
    "### Total Zip Code Bar Chart\n",
    "Used to generate a bar chart of the histograms created in `total_zip_code_analysis`."
   ]
  },
  {
   "cell_type": "code",
   "execution_count": 4,
   "metadata": {},
   "outputs": [],
   "source": [
    "def total_zip_bar_chart(source):\n",
    "    total_zip_histogram = json.load(open(source))\n",
    "\n",
    "    pairs = total_zip_histogram.items()  # [(zip, count), ...]\n",
    "    pairs = sorted(pairs, key=lambda x: x[0])\n",
    "    keys = [p[0] for p in pairs]\n",
    "    values = [p[1] for p in pairs]\n",
    "\n",
    "    plt.figure(figsize=(12, 6.5))\n",
    "    plt.title('Total Properties per Zip Code')\n",
    "    plt.xlabel('Philadelphia Zip Codes')\n",
    "    plt.ylabel('No. Properties')\n",
    "    plt.bar(range(len(total_zip_histogram)), values, align='center', width=0.5)\n",
    "    plt.xticks(range(len(total_zip_histogram)), keys, rotation='vertical')\n",
    "    plt.show()"
   ]
  },
  {
   "cell_type": "code",
   "execution_count": null,
   "metadata": {},
   "outputs": [],
   "source": [
    "total_zip_bar_chart('./data_sets/total_zip_counts.json')"
   ]
  },
  {
   "cell_type": "markdown",
   "metadata": {},
   "source": [
    "### Single Owner Zip Code Analysis\n",
    "Used to create a histogram on how many properties and owner_1 has in a zip code."
   ]
  },
  {
   "cell_type": "code",
   "execution_count": 5,
   "metadata": {},
   "outputs": [],
   "source": [
    "def single_owner_zip_analysis(source, owner_1):\n",
    "    data = json.load(open(source))\n",
    "\n",
    "    try:\n",
    "        print('Getting property list...')\n",
    "        properties = data[owner_1]['properties']\n",
    "    except KeyError:\n",
    "        print(\"Didn't find \", owner_1)\n",
    "        return 0\n",
    "\n",
    "    zip_counts = {}\n",
    "    for property in tqdm(properties, total=len(properties.keys())):\n",
    "        property_zip_code = properties[property]['zip_code'].strip()[0:5]\n",
    "        if property_zip_code not in zip_counts.keys():\n",
    "            zip_counts[property_zip_code] = 1\n",
    "        else:\n",
    "            try:\n",
    "                zip_count = zip_counts[property_zip_code]\n",
    "                zip_counts[property_zip_code] = zip_count + 1\n",
    "            except KeyError:\n",
    "                print(property_zip_code, \"is missing a count.\")\n",
    "    unique_zip_codes = len(zip_counts)\n",
    "    print('There are ', unique_zip_codes, 'unique zip codes in ', owner_1, \"'s properties.\")\n",
    "\n",
    "    json.dump(zip_counts, open(owner_1 + '.json', 'w'))\n"
   ]
  },
  {
   "cell_type": "code",
   "execution_count": null,
   "metadata": {},
   "outputs": [],
   "source": [
    "single_owner_zip_analysis('./data_sets/landlords_and_properties.json', 'PHILADELPHIA HOUSING AUTH')"
   ]
  },
  {
   "cell_type": "markdown",
   "metadata": {},
   "source": [
    "### Single Zip Bar Chart\n",
    "Used to create a bar chart with the results of `single_owner_zip_analysis`."
   ]
  },
  {
   "cell_type": "code",
   "execution_count": 6,
   "metadata": {},
   "outputs": [],
   "source": [
    "def single_zip_bar_chart(source, owner_1):\n",
    "    single_zip_histogram = json.load(open(source))\n",
    "\n",
    "    pairs = single_zip_histogram.items()  # [(zip, count), ...]\n",
    "    pairs = sorted(pairs, key=lambda x: x[0])\n",
    "    keys = [p[0] for p in pairs]\n",
    "    values = [p[1] for p in pairs]\n",
    "\n",
    "    plt.figure(figsize=(12, 6.5))\n",
    "    plt.title(owner_1 + \"'s Properties per Zip Code\")\n",
    "    plt.xlabel('Philadelphia Zip Codes')\n",
    "    plt.ylabel('No. Properties')\n",
    "    plt.bar(range(len(single_zip_histogram)), values, align='center', width=0.5)\n",
    "    plt.xticks(range(len(single_zip_histogram)), keys, rotation='vertical')\n",
    "    plt.show()"
   ]
  },
  {
   "cell_type": "code",
   "execution_count": null,
   "metadata": {},
   "outputs": [],
   "source": [
    "single_zip_bar_chart('./data_sets/PHILADELPHIA HOUSING AUTH.json', 'PHILADELPHIA HOUSING AUTH')"
   ]
  },
  {
   "cell_type": "markdown",
   "metadata": {},
   "source": [
    "### Generate Single Zip Analysis of Full Dataset\n",
    "This will generate an object that contains histograms of property distribution in each zip code for each owner_1 in the dataset."
   ]
  },
  {
   "cell_type": "code",
   "execution_count": null,
   "metadata": {},
   "outputs": [],
   "source": [
    "def generate_single_zip_analysis_full(source, output):\n",
    "    data = json.load(open(source))\n",
    "    landlord_zip_counts = {}\n",
    "    for landlord in tqdm(data, total=len(data)):\n",
    "        try:\n",
    "            properties = data[landlord]['properties']\n",
    "        except KeyError:\n",
    "            print(\"Didn't find \", landlord)\n",
    "            return 0\n",
    "        zip_counts = {}\n",
    "        for property in properties:\n",
    "            property_zip_code = properties[property]['zip_code'].strip()[0:5]\n",
    "            if property_zip_code not in zip_counts.keys():\n",
    "                zip_counts[property_zip_code] = 1\n",
    "            else:\n",
    "                try:\n",
    "                    zip_count = zip_counts[property_zip_code]\n",
    "                    zip_counts[property_zip_code] = zip_count + 1\n",
    "                except KeyError:\n",
    "                    print(property_zip_code, \"is missing a count.\")\n",
    "        landlord_zip_counts[landlord] = zip_counts\n",
    "    json.dump(landlord_zip_counts, open(output, 'w'))"
   ]
  },
  {
   "cell_type": "code",
   "execution_count": null,
   "metadata": {},
   "outputs": [],
   "source": [
    "generate_single_zip_analysis_full('./data_sets/landlords_and_properties.json', './data_sets/landlord_zip_counts.json')"
   ]
  },
  {
   "cell_type": "markdown",
   "metadata": {},
   "source": [
    "### Get Single Zip Code Property Counts\n",
    "This function will create a histogram of the largest owner_1s in a given zip code. If you wish to truncate the results of this function use `truncate_to_top_n()` located in Data Cleaning."
   ]
  },
  {
   "cell_type": "code",
   "execution_count": 7,
   "metadata": {},
   "outputs": [],
   "source": [
    "def get_single_zip_counts(source, zip_code):\n",
    "    data = json.load(open(source))\n",
    "    zip_counts = {}\n",
    "    for landlord in data:\n",
    "        if zip_code in data[landlord].keys():\n",
    "            count = data[landlord][zip_code]\n",
    "            zip_counts[landlord] = count\n",
    "    sorted_top = {k: v for k, v in sorted(zip_counts.items(), key=lambda item: item[1], reverse=True)}\n",
    "    return sorted_top"
   ]
  },
  {
   "cell_type": "code",
   "execution_count": null,
   "metadata": {},
   "outputs": [],
   "source": [
    "get_single_zip_counts('./data_sets/landlord_zip_counts.json', '19104')"
   ]
  },
  {
   "cell_type": "markdown",
   "metadata": {},
   "source": [
    "### Get Zip Code Tops\n",
    "This function will create a JSON file that contains the top 20 landlords in each zip code."
   ]
  },
  {
   "cell_type": "code",
   "execution_count": 8,
   "metadata": {},
   "outputs": [],
   "source": [
    "def get_zip_tops(source, output):\n",
    "    philly_zip_codes = [\n",
    "        '19102', '19103', '19104', '19106', '19107', '19109', '19110', '19111', '19112', '19113', '19114', '19115',\n",
    "        '19116', '19118', '19119', '19120', '19121', '19122', '19123', '19124', '19125', '19126', '19127', '19128',\n",
    "        '19129', '19130', '19131', '19132', '19133', '19134', '19135', '19136', '19137', '19138', '19139', '19140',\n",
    "        '19141', '19142', '19143', '19144', '19145', '19146', '19147', '19148', '19149', '19150', '19151', '19152',\n",
    "        '19153', '19154',\n",
    "    ]\n",
    "    zip_dict = {}\n",
    "    for zip_code in tqdm(philly_zip_codes, total=len(philly_zip_codes)):\n",
    "        zip_dict[zip_code] = get_single_zip_counts(source, zip_code)\n",
    "    json.dump(zip_dict, open(output, 'w'))"
   ]
  },
  {
   "cell_type": "code",
   "execution_count": null,
   "metadata": {},
   "outputs": [],
   "source": [
    "get_zip_tops('./data_sets/landlord_zip_counts.json', './data_sets/top_in_zip_full.json')"
   ]
  },
  {
   "cell_type": "markdown",
   "metadata": {},
   "source": [
    "### Make Zip Code Tops Bar Chart\n",
    "Used to generate a bar chart with the JSON file created in `get_zip_tops()`."
   ]
  },
  {
   "cell_type": "code",
   "execution_count": 9,
   "metadata": {},
   "outputs": [],
   "source": [
    "def make_zip_tops_bar_chart(source):\n",
    "    data = json.load(open(source))\n",
    "    for zip_code in tqdm(data, total=len(data)):\n",
    "        pairs = data[zip_code].items()\n",
    "        keys = [p[0] for p in pairs]\n",
    "        values = [p[1] for p in pairs]\n",
    "        plt.figure(figsize=(12, 8))\n",
    "        plt.title(zip_code + \" Top Owners per Zip Code\")\n",
    "        plt.xlabel('owner_1')\n",
    "        plt.ylabel('No. Properties')\n",
    "        plt.bar(range(len(data[zip_code])), values, align='center', width=0.5)\n",
    "        plt.xticks(range(len(data[zip_code])), keys, rotation='vertical')\n",
    "        plt.subplots_adjust(bottom=0.4)\n",
    "        plt.savefig('./figures/top_in_zip_code/'+zip_code+'.png')\n",
    "        plt.close()"
   ]
  },
  {
   "cell_type": "code",
   "execution_count": null,
   "metadata": {},
   "outputs": [],
   "source": [
    "make_zip_tops_bar_chart('./data_sets/top_20_in_all_zips.json')"
   ]
  },
  {
   "cell_type": "markdown",
   "metadata": {},
   "source": [
    "### Format Data for React\n",
    "This is used to format `get_zip_tops()` in such a way that Victory (the visualization library used on the front end) can understand it."
   ]
  },
  {
   "cell_type": "code",
   "execution_count": 10,
   "metadata": {},
   "outputs": [],
   "source": [
    "def format_data_for_react(source, output):\n",
    "    data = json.load(open(source))\n",
    "    output_object = {}\n",
    "    for zip_code in tqdm(data, total=len(data)):\n",
    "        plot_array = []\n",
    "        for owner in data[zip_code]:\n",
    "            plot_array.append({'owner': owner, 'property_count': data[zip_code][owner]})\n",
    "        output_object[zip_code] = plot_array\n",
    "    json.dump(output_object, open(output, 'w')) "
   ]
  },
  {
   "cell_type": "code",
   "execution_count": null,
   "metadata": {},
   "outputs": [],
   "source": [
    "format_data_for_react('./data_sets/top_20_in_all_zips.json', './data_sets/FE/zip_code_bar_data.json')"
   ]
  },
  {
   "cell_type": "markdown",
   "metadata": {},
   "source": [
    "### City Wide Zip Code Distribution for React\n",
    "Used to create a Victory (FE Visualization Library) readable JSON object of the citywide distribution on owner_1s per zip code."
   ]
  },
  {
   "cell_type": "code",
   "execution_count": 11,
   "metadata": {},
   "outputs": [],
   "source": [
    "def city_wide_dist_for_react(source, output):\n",
    "    data = json.load(open(source))\n",
    "    output_a = []\n",
    "    for owner in tqdm(data, total=len(data)):\n",
    "        output_a.append({'owner': owner[0], 'property_count': owner[1]})\n",
    "    json.dump(output_a, open(output, 'w'))"
   ]
  },
  {
   "cell_type": "code",
   "execution_count": null,
   "metadata": {},
   "outputs": [],
   "source": [
    "city_wide_dist_for_react('./data_sets/significant_sorted_landlords.json', './data_sets/FE/city_wide_dist.json')"
   ]
  }
 ],
 "metadata": {
  "kernelspec": {
   "display_name": "Python 3",
   "language": "python",
   "name": "python3"
  },
  "language_info": {
   "codemirror_mode": {
    "name": "ipython",
    "version": 3
   },
   "file_extension": ".py",
   "mimetype": "text/x-python",
   "name": "python",
   "nbconvert_exporter": "python",
   "pygments_lexer": "ipython3",
   "version": "3.8.5"
  }
 },
 "nbformat": 4,
 "nbformat_minor": 4
}