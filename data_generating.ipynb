{
 "cells": [
  {
   "cell_type": "markdown",
   "metadata": {},
   "source": [
    "# Data Generator\n",
    "These functions are meant to generate JSON objects that can be used by the front end or a better structure of the original property data."
   ]
  },
  {
   "cell_type": "markdown",
   "metadata": {},
   "source": [
    "### Imports\n",
    "`import csv`\n",
    "\n",
    "Used to work with the csv file.\n",
    "\n",
    "`from tqdm import tqdm`\n",
    "\n",
    "Used to measure progress on data processing\n",
    "\n",
    "`import json`\n",
    "\n",
    "Used to work with json data\n",
    "\n",
    "`import matplotlib.pyplot as plt`\n",
    "\n",
    "Used to build plots and figures\n",
    "\n",
    "`import numpy as np`\n",
    "\n",
    "Used with `matplotlib`"
   ]
  },
  {
   "cell_type": "code",
   "execution_count": 4,
   "metadata": {},
   "outputs": [],
   "source": [
    "import csv\n",
    "from tqdm import tqdm\n",
    "import json\n",
    "import matplotlib.pyplot as plt\n",
    "import numpy as np"
   ]
  },
  {
   "cell_type": "markdown",
   "metadata": {},
   "source": [
    "### Landlord Count\n",
    "Goes through `opa_properties_public.csv`, counts the unique landlords and properties in the data set"
   ]
  },
  {
   "cell_type": "code",
   "execution_count": 5,
   "metadata": {},
   "outputs": [],
   "source": [
    "def landlord_count(source, output):\n",
    "    landlords = {}\n",
    "\n",
    "    with open(source, mode=\"r\") as csv_file:\n",
    "        csv_reader = csv.DictReader(csv_file)\n",
    "        line_count = 0\n",
    "        for row in tqdm(csv_reader, total=581456):\n",
    "            if line_count == 0:\n",
    "                line_count += 1\n",
    "            if row[\"owner_1\"] not in landlords.keys():\n",
    "                landlords[row[\"owner_1\"].strip()] = 1\n",
    "                line_count += 1\n",
    "            else:\n",
    "                try:\n",
    "                    landlord_prop_count = landlords[row[\"owner_1\"].strip()]\n",
    "                    landlords[row[\"owner_1\"].strip()] = landlord_prop_count + 1\n",
    "                except:\n",
    "                    print(row[\"owner_1\"].strip(), \"is missing a count.\")\n",
    "                line_count += 1\n",
    "\n",
    "    landlord_count = len(landlords)\n",
    "    print(\"There are \", line_count, \"properties in this data set.\")\n",
    "    print(\"There are \", landlord_count, \"unique owner_1's.\")\n",
    "\n",
    "    sorted_landlords = sorted(landlords.items(), key=lambda x: x[1], reverse=True)\n",
    "    with open(output, 'w') as file:\n",
    "        file.write(json.dumps(sorted_landlords))"
   ]
  },
  {
   "cell_type": "code",
   "execution_count": null,
   "metadata": {},
   "outputs": [],
   "source": [
    "landlord_count('./data_sets/opa_properties_public.csv', './data_sets/unique_landlords.json')"
   ]
  },
  {
   "cell_type": "markdown",
   "metadata": {},
   "source": [
    "### JSON Creator\n",
    "This function creates a formatted object out of the `opa_properties_public.csv` file. This will not do fuzzy string matching or anything else like that. Use `data_cleaning.ipynb` for that. This function should only really be used if you need to create your first JSON.\n"
   ]
  },
  {
   "cell_type": "code",
   "execution_count": 7,
   "metadata": {},
   "outputs": [],
   "source": [
    "def json_creator(source, output):\n",
    "    data = {}\n",
    "    with open(source, mode='r') as csv_file:\n",
    "        csv_reader = csv.DictReader(csv_file)\n",
    "        line_count = 0\n",
    "        for row in tqdm(csv_reader, total=581456):\n",
    "            if line_count != 0: # The first iteration needs too ignore the csv headers\n",
    "                if row[\"owner_1\"].strip() not in data.keys():\n",
    "                    address = row['location'].strip()  # So it makes more sense\n",
    "\n",
    "                    data[row[\"owner_1\"].strip()] = {\n",
    "                        'total_properties': 1,\n",
    "                        'properties': {\n",
    "                            address: {\n",
    "                                'location': [row['lat'].strip(), row['lng'].strip()],\n",
    "                                'category': row['category_code_description'].strip(),\n",
    "                                'owner_2': row['owner_2'].strip(),\n",
    "                                'sale_date': row['sale_date'].strip(),\n",
    "                                'sale_price': row['sale_price'].strip(),\n",
    "                                'year_built': row['year_built'].strip(),\n",
    "                                'year_built_estimate': row['year_built_estimate'].strip(),\n",
    "                                'recording_date': row['recording_date'],\n",
    "                                'zip_code': row['zip_code']\n",
    "                            }\n",
    "                        }\n",
    "                    }\n",
    "                else:\n",
    "                    # Setting the data to var names for easier reading\n",
    "                    owner_1 = data[row['owner_1'].strip()]\n",
    "                    lat = row['lat'].strip()\n",
    "                    long = row['lng'].strip()\n",
    "                    category_code_description = row['category_code_description'].strip()\n",
    "                    owner_2 = row['owner_2'].strip()\n",
    "                    sale_date = row['sale_date'].strip()\n",
    "                    sale_price = row['sale_price'].strip()\n",
    "                    year_built = row['year_built'].strip()\n",
    "                    year_built_estimate = row['year_built_estimate'].strip()\n",
    "                    recording_date = row['recording_date']\n",
    "                    zip_code = row['zip_code']\n",
    "\n",
    "                    # Update and add values\n",
    "                    owner_1['total_properties'] += 1\n",
    "                    owner_1['properties'][row['location']] = {\n",
    "                                'location': [lat, long],\n",
    "                                'category': category_code_description,\n",
    "                                'owner_2': owner_2,\n",
    "                                'sale_date': sale_date,\n",
    "                                'sale_price': sale_price,\n",
    "                                'year_built': year_built,\n",
    "                                'year_built_estimate': year_built_estimate,\n",
    "                                'recording_date': recording_date,\n",
    "                                'zip_code': zip_code\n",
    "                            }\n",
    "            line_count += 1\n",
    "\n",
    "    with open(output, 'w') as file:\n",
    "        file.write(json.dumps(data))"
   ]
  },
  {
   "cell_type": "code",
   "execution_count": null,
   "metadata": {},
   "outputs": [],
   "source": [
    "json_creator('./data_sets/opa_properties_public.csv', './data_sets/landlords_and_properties.json')"
   ]
  },
  {
   "cell_type": "markdown",
   "metadata": {},
   "source": [
    "### Landlord JSON Creator\n",
    "This function creates a dictionary of `owner_1`'s and how many properties they own."
   ]
  },
  {
   "cell_type": "code",
   "execution_count": 2,
   "metadata": {},
   "outputs": [],
   "source": [
    "def landlord_json_creator(source, output):\n",
    "    landlords = {}\n",
    "\n",
    "    with open(source, mode=\"r\") as csv_file:\n",
    "        csv_reader = csv.DictReader(csv_file)\n",
    "        line_count = 0\n",
    "        for row in tqdm(csv_reader, total=581456):\n",
    "            if line_count == 0:\n",
    "                line_count += 1\n",
    "            if row[\"owner_1\"] not in landlords.keys():\n",
    "                landlords[row[\"owner_1\"].strip()] = 1\n",
    "                line_count += 1\n",
    "            else:\n",
    "                try:\n",
    "                    landlord_prop_count = landlords[row[\"owner_1\"].strip()]\n",
    "                    landlords[row[\"owner_1\"].strip()] = landlord_prop_count + 1\n",
    "                except:\n",
    "                    print(row[\"owner_1\"].strip(), \"is missing a count.\")\n",
    "                line_count += 1\n",
    "        sorted_landlords = sorted(landlords.items(), key=lambda x: x[1], reverse=True)\n",
    "    with open(output, 'w') as file:\n",
    "        file.write(json.dumps(sorted_landlords))"
   ]
  },
  {
   "cell_type": "code",
   "execution_count": 5,
   "metadata": {},
   "outputs": [
    {
     "name": "stderr",
     "output_type": "stream",
     "text": [
      "100%|██████████| 581456/581456 [00:14<00:00, 40276.78it/s]\n"
     ]
    }
   ],
   "source": [
    "landlord_json_creator('./data_sets/opa_properties_public.csv', './data_sets/sorted_landlords.json')"
   ]
  },
  {
   "cell_type": "markdown",
   "metadata": {},
   "source": [
    "### Property JSON Creator\n",
    "This function creates a basic list of the properties in the data set."
   ]
  },
  {
   "cell_type": "code",
   "execution_count": 6,
   "metadata": {},
   "outputs": [],
   "source": [
    "def property_json_creator(source, output):\n",
    "    properties = []\n",
    "\n",
    "    with open(source, mode=\"r\") as csv_file:\n",
    "        csv_reader = csv.DictReader(csv_file)\n",
    "        line_count = 0\n",
    "        for row in tqdm(csv_reader, total=581456):\n",
    "            if line_count == 0:\n",
    "                line_count += 1\n",
    "            properties.append(row['location'].strip())\n",
    "            line_count += 1\n",
    "    with open(output, 'w') as file:\n",
    "        file.write(json.dumps(properties))"
   ]
  },
  {
   "cell_type": "code",
   "execution_count": null,
   "metadata": {},
   "outputs": [],
   "source": [
    "property_json_creator('./data_sets/opa_properties_public.csv', './data_sets/properties.json')"
   ]
  },
  {
   "cell_type": "markdown",
   "metadata": {},
   "source": [
    "### Remove one off landlords\n",
    "This function will modify a JSON file to contain landlords with property counts higher than `significant_property_count`. The results are saved to a different JSON file."
   ]
  },
  {
   "cell_type": "code",
   "execution_count": 7,
   "metadata": {},
   "outputs": [],
   "source": [
    "def remove_one_off_landlords(source, output, significant_property_count):\n",
    "    with open(source, mode='r') as file:\n",
    "        data = file.read()\n",
    "    landlords_and_properties = json.loads(data)\n",
    "    landlord_count = len(landlords_and_properties.keys())\n",
    "    significant_landlords = {}\n",
    "    for landlord in tqdm(landlords_and_properties, total=landlord_count):\n",
    "        if landlords_and_properties[landlord]['total_properties'] >= significant_property_count:\n",
    "            significant_landlords[landlord] = {\n",
    "                'total_properties': landlords_and_properties[landlord]['total_properties'],\n",
    "                'properties': landlords_and_properties[landlord]['properties']\n",
    "            }\n",
    "    print('Significance Threshold: ', significant_property_count, 'Properties Owned')\n",
    "    print('Significant Landlords: ', len(significant_landlords))\n",
    "    with open(output, 'w') as file:\n",
    "            file.write(json.dumps(significant_landlords))"
   ]
  },
  {
   "cell_type": "code",
   "execution_count": null,
   "metadata": {},
   "outputs": [],
   "source": [
    "remove_one_off_landlords('./data_sets/landlords_and_properties.json', './data_sets/significant_landlords.json', 200)"
   ]
  },
  {
   "cell_type": "markdown",
   "metadata": {},
   "source": [
    "### Histogram\n",
    "Used to make a histogram from the `landlord_json_creator()` and `remove_one_off_landlords()`."
   ]
  },
  {
   "cell_type": "code",
   "execution_count": 8,
   "metadata": {},
   "outputs": [],
   "source": [
    "def histogram(source, n_bins):\n",
    "    with open(source, mode='r') as file:\n",
    "        landlords_and_properties = file.read()\n",
    "    data = json.loads(landlords_and_properties)\n",
    "    landlord_count = len(data.keys())\n",
    "    x = []\n",
    "    for landlord in tqdm(data, total=landlord_count):\n",
    "        x.append(data[landlord]['total_properties'])\n",
    "\n",
    "    fig,ax = plt.subplots(1,1)\n",
    "    ax.hist(x, n_bins, log=True, color=['grey'])\n",
    "    ax.set_title('Histogram of Property Ownership')\n",
    "    ax.set_xlabel('No. of Properties Owned')\n",
    "    ax.set_ylabel('No. of Owners (Logged)')\n",
    "    plt.show()"
   ]
  },
  {
   "cell_type": "code",
   "execution_count": null,
   "metadata": {},
   "outputs": [],
   "source": [
    "histogram('./data_sets/landlords_and_properties.json', 200)"
   ]
  },
  {
   "cell_type": "markdown",
   "metadata": {},
   "source": [
    "### Housing Justice Node JSON Generator\n",
    "This generator will create all the files necessary for the front-end of this project."
   ]
  },
  {
   "cell_type": "code",
   "execution_count": 9,
   "metadata": {},
   "outputs": [],
   "source": [
    "def housing_justice_node_json_generator():\n",
    "    print('Creating landlords_and_properties.json...')\n",
    "    json_creator('opa_properties_public.csv', 'landlords_and_properties.json')\n",
    "    print('Creating properties.json...')\n",
    "    property_json_creator('opa_properties_public.csv', 'properties.json')\n",
    "    print('Creating landlords.json...')\n",
    "    landlord_json_creator('opa_properties_public.csv', 'landlords.json')\n"
   ]
  },
  {
   "cell_type": "code",
   "execution_count": null,
   "metadata": {},
   "outputs": [],
   "source": [
    "housing_justice_node_json_generator()"
   ]
  },
  {
   "cell_type": "markdown",
   "metadata": {},
   "source": [
    "### Significant Landlords Generator\n",
    "This functions modifies a JSON file to contain ornly landlords and properties higher than `significant_property_count`."
   ]
  },
  {
   "cell_type": "code",
   "execution_count": 10,
   "metadata": {},
   "outputs": [],
   "source": [
    "def significant_landlords_generator(source, output, significant_property_count):\n",
    "    with open(source, mode='r') as file:\n",
    "        data = file.read()\n",
    "    landlords_and_properties = json.loads(data)\n",
    "    landlord_count = len(landlords_and_properties)\n",
    "    significant_landlords = []\n",
    "    for landlord in tqdm(landlords_and_properties, total=landlord_count):\n",
    "        if landlord[1] >= significant_property_count:\n",
    "            significant_landlords.append(landlord)\n",
    "    print('Significance Threshold: ', significant_property_count, 'Properties Owned')\n",
    "    print('Significant Landlords: ', len(significant_landlords))\n",
    "    with open(output, 'w') as file:\n",
    "            file.write(json.dumps(significant_landlords))"
   ]
  },
  {
   "cell_type": "code",
   "execution_count": null,
   "metadata": {},
   "outputs": [],
   "source": [
    "significant_landlords_generator('./data_sets/sorted_landlords.json', './data_sets/significant_sorted_landlords.json', 50)"
   ]
  },
  {
   "cell_type": "markdown",
   "metadata": {},
   "source": [
    "### How Many Landlords\n",
    "This function provides how many landlords there are in a JSON file."
   ]
  },
  {
   "cell_type": "code",
   "execution_count": 11,
   "metadata": {},
   "outputs": [],
   "source": [
    "def how_many_landlords(source):\n",
    "    with open(source, mode='r') as file:\n",
    "        data = file.read()\n",
    "    landlords = json.loads(data)\n",
    "    landlord_count = len(landlords)\n",
    "    print(\"There are \", landlord_count, \"in this dataset.\")"
   ]
  },
  {
   "cell_type": "code",
   "execution_count": 12,
   "metadata": {},
   "outputs": [
    {
     "name": "stdout",
     "output_type": "stream",
     "text": [
      "There are  429983 in this dataset.\n"
     ]
    }
   ],
   "source": [
    "how_many_landlords('./data_sets/unique_landlords.json')"
   ]
  },
  {
   "cell_type": "markdown",
   "metadata": {},
   "source": [
    "### Landlord Stats\n",
    "A work in progress"
   ]
  },
  {
   "cell_type": "code",
   "execution_count": 13,
   "metadata": {},
   "outputs": [],
   "source": [
    "# def landlord_stats(source, output):\n",
    "#     with open(source, mode='r') as file:\n",
    "#         data = file.read()\n",
    "#     landlords_and_properties = json.loads(data)\n",
    "#     landlord_count = len(landlords_and_properties)\n",
    "#     landlords = {}\n",
    "#     for landlord in tqdm(landlords_and_properties, total=landlord_count):\n",
    "#         properties = landlords_and_properties[landlord]['properties']\n",
    "#         property_ages = []\n",
    "#         unknown_age_count = 0\n",
    "#         has_age_estimates = False\n",
    "#         sale_prices = []\n",
    "#         num_dollar_props = 0\n",
    "#         purchase_years = []\n",
    "#         for property in tqdm(properties, len(properties)):\n",
    "#             # average property age\n",
    "#             if property['year_built'] == '0000':\n",
    "#                 unknown_age_count += 1\n",
    "#             else:\n",
    "#                 if (property['year_built_estimate'] == 'Y'):\n",
    "#                     has_age_estimates = True\n",
    "#                 try:\n",
    "#                     int_year = int(property['year_built'])\n",
    "#                     property_ages.append(int_year)\n",
    "#                 except:\n",
    "#                     print('Uhhh what the year didn\\'t int.')\n",
    "#                     print(landlord)\n",
    "#\n",
    "#             # average sale price\n",
    "#             if property['sale_price'] == '1.0':\n",
    "#                 num_dollar_props += 1\n",
    "#             else:\n",
    "#                 try:\n",
    "#                     float_price = float(property['sale_price'])\n",
    "#                     sale_prices.append(float_price)\n",
    "#                 except:\n",
    "#                     print('Uhhh what the sale price didn\\'t float.')\n",
    "#                     print(landlord)\n",
    "#                     print('\\n')\n",
    "#  @TODO finish this function"
   ]
  },
  {
   "cell_type": "code",
   "execution_count": null,
   "metadata": {},
   "outputs": [],
   "source": []
  }
 ],
 "metadata": {
  "kernelspec": {
   "display_name": "Python 3",
   "language": "python",
   "name": "python3"
  },
  "language_info": {
   "codemirror_mode": {
    "name": "ipython",
    "version": 3
   },
   "file_extension": ".py",
   "mimetype": "text/x-python",
   "name": "python",
   "nbconvert_exporter": "python",
   "pygments_lexer": "ipython3",
   "version": "3.7.2"
  }
 },
 "nbformat": 4,
 "nbformat_minor": 4
}
