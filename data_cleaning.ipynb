{
 "cells": [
  {
   "cell_type": "markdown",
   "metadata": {},
   "source": [
    "# Data Cleaning Tools\n",
    "These tools are used to clean up the data set."
   ]
  },
  {
   "cell_type": "markdown",
   "metadata": {},
   "source": [
    "### Imports\n",
    "`import json` is used to work with JSON files and objects.\n",
    "\n",
    "`from tqdm import tqdm` is used to keep progress on lengthy operations.\n",
    "\n",
    "`from fuzzywuzzy import fuzz` is used to get the distance between strings for fuzzy string matching.\n",
    "\n",
    "`from fuzzywuzzy import fuzz` is not in use currently but may be used by `fuzz`."
   ]
  },
  {
   "cell_type": "code",
   "execution_count": 1,
   "metadata": {},
   "outputs": [],
   "source": [
    "import json\n",
    "from tqdm import tqdm\n",
    "from fuzzywuzzy import fuzz\n",
    "from fuzzywuzzy import process"
   ]
  },
  {
   "cell_type": "markdown",
   "metadata": {},
   "source": [
    "### Fuzzy String Match on owner_1\n",
    "This function is used to see if the owner_1 has any potential duplicates in the data, as some entries are misspelled or truncated differently. To do this effeciently I used it in tandem with `print_property_addresses_by_owner` (in data tools) and looked a few addresses up in Philly Atlas."
   ]
  },
  {
   "cell_type": "code",
   "execution_count": 2,
   "metadata": {},
   "outputs": [],
   "source": [
    "def fuzzy_string_match_on_owner_1(source, string_to_match):\n",
    "    data = json.load(open(source))\n",
    "    owner_1s = []\n",
    "    print('Getting Owners...')\n",
    "    for owner in tqdm(data, total=len(data)):\n",
    "        owner_1s.append(owner[0])\n",
    "    ratios = []\n",
    "    print('uwu fuzzy wuzzy at werk uwu....')\n",
    "    for owner in tqdm(owner_1s, total=len(owner_1s)):\n",
    "        score = fuzz.ratio(string_to_match, owner)\n",
    "        if score > 80:\n",
    "            ratios.append([owner, score])\n",
    "    ratios.sort(key=lambda x: x[1], reverse=True)\n",
    "    output = './data_sets/fuzzy_string_ratios/' + string_to_match + '.json'\n",
    "    json.dump(ratios, open(output, 'w'))"
   ]
  },
  {
   "cell_type": "code",
   "execution_count": null,
   "metadata": {},
   "outputs": [],
   "source": [
    "fuzzy_string_match_on_owner_1('./data_sets/unique_landlords.json', 'PHILADELPHIA HOUSING AUTH')"
   ]
  },
  {
   "cell_type": "markdown",
   "metadata": {},
   "source": [
    "### Merge Same Owners\n",
    "Using the results from `fuzzy_string_match_on_owner_1` you can merge two entries together. Updating only their property count and object containing their properties."
   ]
  },
  {
   "cell_type": "code",
   "execution_count": 3,
   "metadata": {},
   "outputs": [],
   "source": [
    "def merge_same_owners(source, correct_entry, entry_to_merge):\n",
    "    data = json.load(open(source))\n",
    "    correct_owner_object = {}\n",
    "    to_merge_owner_object = {}\n",
    "    print('Finding correct owner objects...')\n",
    "    for owner in tqdm(data, total=len(data)):\n",
    "        if owner == correct_entry:\n",
    "            correct_owner_object = data[owner]\n",
    "        if owner == entry_to_merge:\n",
    "            to_merge_owner_object = data[owner]\n",
    "    del data[correct_entry]\n",
    "    del data[entry_to_merge]\n",
    "    original_count_property = correct_owner_object[\"total_properties\"]\n",
    "    expected_count_property = correct_owner_object[\"total_properties\"] + to_merge_owner_object[\"total_properties\"]\n",
    "    correct_owner_object[\"total_properties\"] += to_merge_owner_object[\"total_properties\"]\n",
    "    print('Merging properties...')\n",
    "    for property in tqdm(to_merge_owner_object[\"properties\"], total=len(to_merge_owner_object[\"properties\"])):\n",
    "        correct_owner_object[\"properties\"][property] = to_merge_owner_object[\"properties\"][property]\n",
    "    data[correct_entry] = correct_owner_object\n",
    "\n",
    "    print('Original Property Count:',  original_count_property)\n",
    "    print('Expected Property Count:', expected_count_property)\n",
    "    print('Actual Property Count:', correct_owner_object[\"total_properties\"])\n",
    "\n",
    "    json.dump(data, open(source, 'w'))"
   ]
  },
  {
   "cell_type": "code",
   "execution_count": null,
   "metadata": {},
   "outputs": [],
   "source": [
    "merge_same_owners('./data_sets/landlords_and_properties.json', 'JAMISON ROAD ASSOCIATES L','JAMISON ROAD ASSOC')"
   ]
  },
  {
   "cell_type": "markdown",
   "metadata": {},
   "source": [
    "### Truncate to Top n\n",
    "This is used to truncate how many owner_1s are displayed in the results of `get_single_zip_counts()`."
   ]
  },
  {
   "cell_type": "code",
   "execution_count": 4,
   "metadata": {},
   "outputs": [],
   "source": [
    "def truncate_to_top_n(source, top_n):\n",
    "    data = json.load(open(source))\n",
    "    zip_dict = {}\n",
    "    for zip_code in tqdm(data, total=len(data)):\n",
    "        counts = data[zip_code]\n",
    "        top = {}\n",
    "        for count in list(counts)[0:top_n + 1]:\n",
    "            top[count] = counts[count]\n",
    "        zip_dict[zip_code] = top\n",
    "    output = 'top_' + str(top_n) + '_in_all_zips.json'\n",
    "    json.dump(zip_dict, open(output, 'w'))"
   ]
  },
  {
   "cell_type": "code",
   "execution_count": null,
   "metadata": {},
   "outputs": [],
   "source": [
    "truncate_to_top_n('top_in_zip_full.json', 20)"
   ]
  }
 ],
 "metadata": {
  "kernelspec": {
   "display_name": "Python 3",
   "language": "python",
   "name": "python3"
  },
  "language_info": {
   "codemirror_mode": {
    "name": "ipython",
    "version": 3
   },
   "file_extension": ".py",
   "mimetype": "text/x-python",
   "name": "python",
   "nbconvert_exporter": "python",
   "pygments_lexer": "ipython3",
   "version": "3.8.5"
  }
 },
 "nbformat": 4,
 "nbformat_minor": 4
}
